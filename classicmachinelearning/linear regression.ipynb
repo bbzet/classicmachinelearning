{
 "cells": [
  {
   "cell_type": "code",
   "execution_count": 1,
   "id": "initial_id",
   "metadata": {
    "collapsed": true,
    "ExecuteTime": {
     "end_time": "2024-10-05T09:08:18.241535200Z",
     "start_time": "2024-10-05T09:08:09.275568100Z"
    }
   },
   "outputs": [
    {
     "data": {
      "text/plain": "     Screen Size (inches)  RAM (GB)  Storage (GB)  Battery Capacity (mAh)  \\\n0                     6.2         4            64                    4000   \n1                     6.1         3           128                    3110   \n2                     6.5         6           256                    4500   \n3                     6.7         8           128                    4300   \n4                     6.4         6           128                    4200   \n..                    ...       ...           ...                     ...   \n287                   6.0         6            64                    3700   \n288                   6.3         4           128                    4025   \n289                   6.6         8           256                    5000   \n290                   6.5         6           128                    4500   \n291                   6.1         4            64                    3000   \n\n     Camera Quality (MP)  Price ($)  \n0                     48        500  \n1                     12        800  \n2                     64        600  \n3                     48        700  \n4                     40        550  \n..                   ...        ...  \n287                   12        750  \n288                   32        450  \n289                   48        700  \n290                   64        550  \n291                   16        400  \n\n[292 rows x 6 columns]",
      "text/html": "<div>\n<style scoped>\n    .dataframe tbody tr th:only-of-type {\n        vertical-align: middle;\n    }\n\n    .dataframe tbody tr th {\n        vertical-align: top;\n    }\n\n    .dataframe thead th {\n        text-align: right;\n    }\n</style>\n<table border=\"1\" class=\"dataframe\">\n  <thead>\n    <tr style=\"text-align: right;\">\n      <th></th>\n      <th>Screen Size (inches)</th>\n      <th>RAM (GB)</th>\n      <th>Storage (GB)</th>\n      <th>Battery Capacity (mAh)</th>\n      <th>Camera Quality (MP)</th>\n      <th>Price ($)</th>\n    </tr>\n  </thead>\n  <tbody>\n    <tr>\n      <th>0</th>\n      <td>6.2</td>\n      <td>4</td>\n      <td>64</td>\n      <td>4000</td>\n      <td>48</td>\n      <td>500</td>\n    </tr>\n    <tr>\n      <th>1</th>\n      <td>6.1</td>\n      <td>3</td>\n      <td>128</td>\n      <td>3110</td>\n      <td>12</td>\n      <td>800</td>\n    </tr>\n    <tr>\n      <th>2</th>\n      <td>6.5</td>\n      <td>6</td>\n      <td>256</td>\n      <td>4500</td>\n      <td>64</td>\n      <td>600</td>\n    </tr>\n    <tr>\n      <th>3</th>\n      <td>6.7</td>\n      <td>8</td>\n      <td>128</td>\n      <td>4300</td>\n      <td>48</td>\n      <td>700</td>\n    </tr>\n    <tr>\n      <th>4</th>\n      <td>6.4</td>\n      <td>6</td>\n      <td>128</td>\n      <td>4200</td>\n      <td>40</td>\n      <td>550</td>\n    </tr>\n    <tr>\n      <th>...</th>\n      <td>...</td>\n      <td>...</td>\n      <td>...</td>\n      <td>...</td>\n      <td>...</td>\n      <td>...</td>\n    </tr>\n    <tr>\n      <th>287</th>\n      <td>6.0</td>\n      <td>6</td>\n      <td>64</td>\n      <td>3700</td>\n      <td>12</td>\n      <td>750</td>\n    </tr>\n    <tr>\n      <th>288</th>\n      <td>6.3</td>\n      <td>4</td>\n      <td>128</td>\n      <td>4025</td>\n      <td>32</td>\n      <td>450</td>\n    </tr>\n    <tr>\n      <th>289</th>\n      <td>6.6</td>\n      <td>8</td>\n      <td>256</td>\n      <td>5000</td>\n      <td>48</td>\n      <td>700</td>\n    </tr>\n    <tr>\n      <th>290</th>\n      <td>6.5</td>\n      <td>6</td>\n      <td>128</td>\n      <td>4500</td>\n      <td>64</td>\n      <td>550</td>\n    </tr>\n    <tr>\n      <th>291</th>\n      <td>6.1</td>\n      <td>4</td>\n      <td>64</td>\n      <td>3000</td>\n      <td>16</td>\n      <td>400</td>\n    </tr>\n  </tbody>\n</table>\n<p>292 rows × 6 columns</p>\n</div>"
     },
     "execution_count": 1,
     "metadata": {},
     "output_type": "execute_result"
    }
   ],
   "source": [
    "import pandas as pd \n",
    "import numpy as np \n",
    "import statsmodels.formula.api as smf\n",
    "import matplotlib.pyplot as plt\n",
    "from scipy import stats \n",
    "df = pd.read_csv(r\"C:\\Users\\ASUS\\Downloads\\archive (1).zip\", header=0, sep=',')\n",
    "df "
   ]
  },
  {
   "cell_type": "markdown",
   "source": [
    "# Linear Regression\n",
    " Linear regression is a method that helps us understand how one thing affects another. Let's imagine we have two things: one we want to predict (let's call it y), and another that can help us predict y (let's call it x). So the line must perfectly between mean x and y. "
   ],
   "metadata": {
    "collapsed": false
   },
   "id": "1bd552572c622a63"
  },
  {
   "cell_type": "markdown",
   "source": [
    "# 1) Regression Table\n",
    "Regression Table is a table representing the results of statistical regression analysis. It contains information about the coefficients of the model, their standard errors, significance, as well as other statistical metrics that allow you to evaluate the quality and significance of the model.\n"
   ],
   "metadata": {
    "collapsed": false
   },
   "id": "739e125c3e315521"
  },
  {
   "cell_type": "code",
   "outputs": [
    {
     "data": {
      "text/plain": "<class 'statsmodels.iolib.summary.Summary'>\n\"\"\"\n                            OLS Regression Results                            \n==============================================================================\nDep. Variable:                  price   R-squared:                       0.079\nModel:                            OLS   Adj. R-squared:                  0.075\nMethod:                 Least Squares   F-statistic:                     24.74\nDate:                Sat, 05 Oct 2024   Prob (F-statistic):           1.13e-06\nTime:                        15:08:18   Log-Likelihood:                -1829.0\nNo. Observations:                 292   AIC:                             3662.\nDf Residuals:                     290   BIC:                             3669.\nDf Model:                           1                                         \nCovariance Type:            nonrobust                                         \n==============================================================================\n                 coef    std err          t      P>|t|      [0.025      0.975]\n------------------------------------------------------------------------------\nIntercept    552.7128     16.307     33.894      0.000     520.618     584.808\nstorage        0.5256      0.106      4.974      0.000       0.318       0.734\n==============================================================================\nOmnibus:                       38.539   Durbin-Watson:                   2.423\nProb(Omnibus):                  0.000   Jarque-Bera (JB):               15.854\nSkew:                           0.357   Prob(JB):                     0.000361\nKurtosis:                       2.109   Cond. No.                         337.\n==============================================================================\n\nNotes:\n[1] Standard Errors assume that the covariance matrix of the errors is correctly specified.\n\"\"\"",
      "text/html": "<table class=\"simpletable\">\n<caption>OLS Regression Results</caption>\n<tr>\n  <th>Dep. Variable:</th>          <td>price</td>      <th>  R-squared:         </th> <td>   0.079</td>\n</tr>\n<tr>\n  <th>Model:</th>                   <td>OLS</td>       <th>  Adj. R-squared:    </th> <td>   0.075</td>\n</tr>\n<tr>\n  <th>Method:</th>             <td>Least Squares</td>  <th>  F-statistic:       </th> <td>   24.74</td>\n</tr>\n<tr>\n  <th>Date:</th>             <td>Sat, 05 Oct 2024</td> <th>  Prob (F-statistic):</th> <td>1.13e-06</td>\n</tr>\n<tr>\n  <th>Time:</th>                 <td>15:08:18</td>     <th>  Log-Likelihood:    </th> <td> -1829.0</td>\n</tr>\n<tr>\n  <th>No. Observations:</th>      <td>   292</td>      <th>  AIC:               </th> <td>   3662.</td>\n</tr>\n<tr>\n  <th>Df Residuals:</th>          <td>   290</td>      <th>  BIC:               </th> <td>   3669.</td>\n</tr>\n<tr>\n  <th>Df Model:</th>              <td>     1</td>      <th>                     </th>     <td> </td>   \n</tr>\n<tr>\n  <th>Covariance Type:</th>      <td>nonrobust</td>    <th>                     </th>     <td> </td>   \n</tr>\n</table>\n<table class=\"simpletable\">\n<tr>\n      <td></td>         <th>coef</th>     <th>std err</th>      <th>t</th>      <th>P>|t|</th>  <th>[0.025</th>    <th>0.975]</th>  \n</tr>\n<tr>\n  <th>Intercept</th> <td>  552.7128</td> <td>   16.307</td> <td>   33.894</td> <td> 0.000</td> <td>  520.618</td> <td>  584.808</td>\n</tr>\n<tr>\n  <th>storage</th>   <td>    0.5256</td> <td>    0.106</td> <td>    4.974</td> <td> 0.000</td> <td>    0.318</td> <td>    0.734</td>\n</tr>\n</table>\n<table class=\"simpletable\">\n<tr>\n  <th>Omnibus:</th>       <td>38.539</td> <th>  Durbin-Watson:     </th> <td>   2.423</td>\n</tr>\n<tr>\n  <th>Prob(Omnibus):</th> <td> 0.000</td> <th>  Jarque-Bera (JB):  </th> <td>  15.854</td>\n</tr>\n<tr>\n  <th>Skew:</th>          <td> 0.357</td> <th>  Prob(JB):          </th> <td>0.000361</td>\n</tr>\n<tr>\n  <th>Kurtosis:</th>      <td> 2.109</td> <th>  Cond. No.          </th> <td>    337.</td>\n</tr>\n</table><br/><br/>Notes:<br/>[1] Standard Errors assume that the covariance matrix of the errors is correctly specified.",
      "text/latex": "\\begin{center}\n\\begin{tabular}{lclc}\n\\toprule\n\\textbf{Dep. Variable:}    &      price       & \\textbf{  R-squared:         } &     0.079   \\\\\n\\textbf{Model:}            &       OLS        & \\textbf{  Adj. R-squared:    } &     0.075   \\\\\n\\textbf{Method:}           &  Least Squares   & \\textbf{  F-statistic:       } &     24.74   \\\\\n\\textbf{Date:}             & Sat, 05 Oct 2024 & \\textbf{  Prob (F-statistic):} &  1.13e-06   \\\\\n\\textbf{Time:}             &     15:08:18     & \\textbf{  Log-Likelihood:    } &   -1829.0   \\\\\n\\textbf{No. Observations:} &         292      & \\textbf{  AIC:               } &     3662.   \\\\\n\\textbf{Df Residuals:}     &         290      & \\textbf{  BIC:               } &     3669.   \\\\\n\\textbf{Df Model:}         &           1      & \\textbf{                     } &             \\\\\n\\textbf{Covariance Type:}  &    nonrobust     & \\textbf{                     } &             \\\\\n\\bottomrule\n\\end{tabular}\n\\begin{tabular}{lcccccc}\n                   & \\textbf{coef} & \\textbf{std err} & \\textbf{t} & \\textbf{P$> |$t$|$} & \\textbf{[0.025} & \\textbf{0.975]}  \\\\\n\\midrule\n\\textbf{Intercept} &     552.7128  &       16.307     &    33.894  &         0.000        &      520.618    &      584.808     \\\\\n\\textbf{storage}   &       0.5256  &        0.106     &     4.974  &         0.000        &        0.318    &        0.734     \\\\\n\\bottomrule\n\\end{tabular}\n\\begin{tabular}{lclc}\n\\textbf{Omnibus:}       & 38.539 & \\textbf{  Durbin-Watson:     } &    2.423  \\\\\n\\textbf{Prob(Omnibus):} &  0.000 & \\textbf{  Jarque-Bera (JB):  } &   15.854  \\\\\n\\textbf{Skew:}          &  0.357 & \\textbf{  Prob(JB):          } & 0.000361  \\\\\n\\textbf{Kurtosis:}      &  2.109 & \\textbf{  Cond. No.          } &     337.  \\\\\n\\bottomrule\n\\end{tabular}\n%\\caption{OLS Regression Results}\n\\end{center}\n\nNotes: \\newline\n [1] Standard Errors assume that the covariance matrix of the errors is correctly specified."
     },
     "execution_count": 2,
     "metadata": {},
     "output_type": "execute_result"
    }
   ],
   "source": [
    "# So here I want to show you how Storage affects the Price of the mobile phone \n",
    "\n",
    "storage = df['Storage (GB)']\n",
    "price = df['Price ($)']\n",
    "model = smf.ols('price ~ storage', data=df)\n",
    "results = model.fit()\n",
    "results.summary()"
   ],
   "metadata": {
    "collapsed": false,
    "ExecuteTime": {
     "end_time": "2024-10-05T09:08:18.346970700Z",
     "start_time": "2024-10-05T09:08:18.239165300Z"
    }
   },
   "id": "6a639054f07516bf",
   "execution_count": 2
  },
  {
   "cell_type": "markdown",
   "source": [
    "# 2) Regression Info \n",
    "The regression info is the information that we get from the regression table. It includes the following: Dep. variable, Model, Method, Date, Time, No. Observations.\n",
    "In formula y = mx + b, y is the dependent variable, x is the independent variable, m is the slope, and b is the intercept."
   ],
   "metadata": {
    "collapsed": false
   },
   "id": "bcf0d0eb7032faee"
  },
  {
   "cell_type": "markdown",
   "source": [
    "# 3) Regression Coefficients \n",
    "If storage increases by 1, the price increases by 0.5256. The coefficient is the number that tells us how much the dependent variable will change when the independent variable changes by one unit.\n",
    "If storage = 0, the price is 552.7128. The intercept is the value of the dependent variable when the independent variable is 0.\n",
    "\n",
    "So again in formula y = mx + b, m is the regression coefficient, and b is the intercept."
   ],
   "metadata": {
    "collapsed": false
   },
   "id": "172e134a4d16a34"
  },
  {
   "cell_type": "markdown",
   "source": [],
   "metadata": {
    "collapsed": false
   },
   "id": "342d799fb9d25d16"
  },
  {
   "cell_type": "code",
   "outputs": [
    {
     "data": {
      "text/plain": "619.9896"
     },
     "execution_count": 3,
     "metadata": {},
     "output_type": "execute_result"
    }
   ],
   "source": [
    "def predict_price(storage):\n",
    "    return 0.5256 * storage + 552.7128\n",
    "\n",
    "# So here m = 0.5256 and b = 552.7128, x = storage\n",
    "\n",
    "predict_price(128)"
   ],
   "metadata": {
    "collapsed": false,
    "ExecuteTime": {
     "end_time": "2024-10-05T09:08:18.349534600Z",
     "start_time": "2024-10-05T09:08:18.301181400Z"
    }
   },
   "id": "6dc01afa8fc068d6",
   "execution_count": 3
  },
  {
   "cell_type": "markdown",
   "source": [
    "# 4) Regression P-Value\n",
    "The p-value is the probability that the coefficient is actually zero. If the p-value is less than 0.05, we can say that the coefficient is statistically significant. If the p-value is greater than 0.05, we can say that the coefficient is not statistically significant. It uses in null hypothesis testing.\n",
    "Null hypothesis: The coefficient is zero. And we take alternative hypothesis: The coefficient is not zero. If the p-value is less than 0.05, we reject the null hypothesis and accept the alternative hypothesis. If the p-value is greater than 0.05, we fail to reject the null hypothesis."
   ],
   "metadata": {
    "collapsed": false
   },
   "id": "cf447b4effb9fc2"
  },
  {
   "cell_type": "markdown",
   "source": [
    "# 5) Regression R-Squared\n",
    "The R-squared value is a measure of how well the model fits the data. It tells us how much of the variation in the dependent variable can be explained by the independent variable. The R-squared value ranges from 0 to 1. The closer the R-squared value is to 1, the better the model fits the data."
   ],
   "metadata": {
    "collapsed": false
   },
   "id": "d093062f2a104b83"
  },
  {
   "cell_type": "code",
   "outputs": [
    {
     "data": {
      "text/plain": "[586.3515713817754,\n 619.9903173593849,\n 687.2678093146039,\n 619.9903173593849,\n 619.9903173593849,\n 586.3515713817754,\n 619.9903173593849,\n 687.2678093146039,\n 619.9903173593849,\n 586.3515713817754,\n 586.3515713817754,\n 619.9903173593849,\n 687.2678093146039,\n 619.9903173593849,\n 619.9903173593849,\n 586.3515713817754,\n 619.9903173593849,\n 687.2678093146039,\n 619.9903173593849,\n 586.3515713817754,\n 586.3515713817754,\n 619.9903173593849,\n 687.2678093146039,\n 619.9903173593849,\n 619.9903173593849,\n 586.3515713817754,\n 619.9903173593849,\n 687.2678093146039,\n 619.9903173593849,\n 586.3515713817754,\n 586.3515713817754,\n 619.9903173593849,\n 687.2678093146039,\n 619.9903173593849,\n 619.9903173593849,\n 586.3515713817754,\n 619.9903173593849,\n 687.2678093146039,\n 619.9903173593849,\n 586.3515713817754,\n 586.3515713817754,\n 619.9903173593849,\n 687.2678093146039,\n 619.9903173593849,\n 619.9903173593849,\n 586.3515713817754,\n 619.9903173593849,\n 687.2678093146039,\n 619.9903173593849,\n 586.3515713817754,\n 586.3515713817754,\n 619.9903173593849,\n 687.2678093146039,\n 619.9903173593849,\n 619.9903173593849,\n 586.3515713817754,\n 619.9903173593849,\n 687.2678093146039,\n 619.9903173593849,\n 586.3515713817754,\n 586.3515713817754,\n 619.9903173593849,\n 687.2678093146039,\n 619.9903173593849,\n 619.9903173593849,\n 586.3515713817754,\n 619.9903173593849,\n 687.2678093146039,\n 619.9903173593849,\n 586.3515713817754,\n 586.3515713817754,\n 619.9903173593849,\n 687.2678093146039,\n 619.9903173593849,\n 619.9903173593849,\n 586.3515713817754,\n 619.9903173593849,\n 687.2678093146039,\n 619.9903173593849,\n 586.3515713817754,\n 586.3515713817754,\n 619.9903173593849,\n 687.2678093146039,\n 569.5321983929707,\n 619.9903173593849,\n 687.2678093146039,\n 586.3515713817754,\n 619.9903173593849,\n 586.3515713817754,\n 619.9903173593849,\n 687.2678093146039,\n 569.5321983929707,\n 619.9903173593849,\n 586.3515713817754,\n 687.2678093146039,\n 586.3515713817754,\n 619.9903173593849,\n 687.2678093146039,\n 586.3515713817754,\n 619.9903173593849,\n 687.2678093146039,\n 586.3515713817754,\n 619.9903173593849,\n 687.2678093146039,\n 586.3515713817754,\n 619.9903173593849,\n 687.2678093146039,\n 586.3515713817754,\n 619.9903173593849,\n 687.2678093146039,\n 586.3515713817754,\n 619.9903173593849,\n 687.2678093146039,\n 586.3515713817754,\n 619.9903173593849,\n 687.2678093146039,\n 586.3515713817754,\n 619.9903173593849,\n 687.2678093146039,\n 586.3515713817754,\n 619.9903173593849,\n 687.2678093146039,\n 586.3515713817754,\n 619.9903173593849,\n 687.2678093146039,\n 586.3515713817754,\n 619.9903173593849,\n 687.2678093146039,\n 586.3515713817754,\n 619.9903173593849,\n 687.2678093146039,\n 586.3515713817754,\n 619.9903173593849,\n 687.2678093146039,\n 586.3515713817754,\n 619.9903173593849,\n 687.2678093146039,\n 586.3515713817754,\n 619.9903173593849,\n 687.2678093146039,\n 586.3515713817754,\n 619.9903173593849,\n 687.2678093146039,\n 586.3515713817754,\n 619.9903173593849,\n 687.2678093146039,\n 586.3515713817754,\n 619.9903173593849,\n 687.2678093146039,\n 586.3515713817754,\n 619.9903173593849,\n 687.2678093146039,\n 586.3515713817754,\n 619.9903173593849,\n 687.2678093146039,\n 619.9903173593849,\n 619.9903173593849,\n 586.3515713817754,\n 619.9903173593849,\n 687.2678093146039,\n 619.9903173593849,\n 586.3515713817754,\n 586.3515713817754,\n 619.9903173593849,\n 687.2678093146039,\n 619.9903173593849,\n 619.9903173593849,\n 586.3515713817754,\n 619.9903173593849,\n 687.2678093146039,\n 619.9903173593849,\n 586.3515713817754,\n 586.3515713817754,\n 619.9903173593849,\n 687.2678093146039,\n 619.9903173593849,\n 619.9903173593849,\n 586.3515713817754,\n 619.9903173593849,\n 687.2678093146039,\n 619.9903173593849,\n 586.3515713817754,\n 586.3515713817754,\n 619.9903173593849,\n 687.2678093146039,\n 619.9903173593849,\n 619.9903173593849,\n 586.3515713817754,\n 619.9903173593849,\n 687.2678093146039,\n 619.9903173593849,\n 586.3515713817754,\n 586.3515713817754,\n 619.9903173593849,\n 687.2678093146039,\n 619.9903173593849,\n 619.9903173593849,\n 586.3515713817754,\n 619.9903173593849,\n 687.2678093146039,\n 619.9903173593849,\n 586.3515713817754,\n 586.3515713817754,\n 619.9903173593849,\n 687.2678093146039,\n 619.9903173593849,\n 619.9903173593849,\n 586.3515713817754,\n 619.9903173593849,\n 687.2678093146039,\n 619.9903173593849,\n 586.3515713817754,\n 586.3515713817754,\n 619.9903173593849,\n 687.2678093146039,\n 619.9903173593849,\n 619.9903173593849,\n 586.3515713817754,\n 619.9903173593849,\n 687.2678093146039,\n 619.9903173593849,\n 586.3515713817754,\n 586.3515713817754,\n 619.9903173593849,\n 687.2678093146039,\n 619.9903173593849,\n 619.9903173593849,\n 586.3515713817754,\n 619.9903173593849,\n 687.2678093146039,\n 619.9903173593849,\n 586.3515713817754,\n 586.3515713817754,\n 619.9903173593849,\n 687.2678093146039,\n 619.9903173593849,\n 619.9903173593849,\n 586.3515713817754,\n 619.9903173593849,\n 687.2678093146039,\n 619.9903173593849,\n 586.3515713817754,\n 586.3515713817754,\n 619.9903173593849,\n 687.2678093146039,\n 619.9903173593849,\n 619.9903173593849,\n 586.3515713817754,\n 619.9903173593849,\n 687.2678093146039,\n 619.9903173593849,\n 586.3515713817754,\n 586.3515713817754,\n 619.9903173593849,\n 687.2678093146039,\n 619.9903173593849,\n 619.9903173593849,\n 586.3515713817754,\n 619.9903173593849,\n 687.2678093146039,\n 619.9903173593849,\n 586.3515713817754,\n 586.3515713817754,\n 619.9903173593849,\n 687.2678093146039,\n 619.9903173593849,\n 619.9903173593849,\n 586.3515713817754,\n 619.9903173593849,\n 687.2678093146039,\n 619.9903173593849,\n 586.3515713817754,\n 586.3515713817754,\n 619.9903173593849,\n 687.2678093146039,\n 619.9903173593849,\n 619.9903173593849,\n 586.3515713817754,\n 619.9903173593849,\n 687.2678093146039,\n 619.9903173593849,\n 586.3515713817754,\n 586.3515713817754,\n 619.9903173593849,\n 687.2678093146039,\n 619.9903173593849,\n 619.9903173593849,\n 586.3515713817754,\n 619.9903173593849,\n 687.2678093146039,\n 619.9903173593849,\n 586.3515713817754]"
     },
     "execution_count": 4,
     "metadata": {},
     "output_type": "execute_result"
    }
   ],
   "source": [
    "slope, intercept, r, p, std_err = stats.linregress(storage, price)\n",
    "def myfunc(x):\n",
    "    return slope * x + intercept\n",
    "\n",
    "mymodel = list(map(myfunc, storage))\n",
    "mymodel "
   ],
   "metadata": {
    "collapsed": false,
    "ExecuteTime": {
     "end_time": "2024-10-05T09:08:18.400274400Z",
     "start_time": "2024-10-05T09:08:18.313322Z"
    }
   },
   "id": "e0909314c584c9bc",
   "execution_count": 4
  },
  {
   "cell_type": "code",
   "outputs": [
    {
     "data": {
      "text/plain": "<Figure size 640x480 with 1 Axes>",
      "image/png": "[encoded data removed]"
     },
     "metadata": {},
     "output_type": "display_data"
    }
   ],
   "source": [
    "plt.scatter(storage, price)\n",
    "plt.plot(storage, mymodel)\n",
    "plt.ylim(ymin=0, ymax=1000)\n",
    "plt.xlim(xmin=0, xmax=200)\n",
    "plt.xlabel('Storage (GB)')\n",
    "plt.ylabel('Price ($)')\n",
    "\n",
    "plt.show()"
   ],
   "metadata": {
    "collapsed": false,
    "ExecuteTime": {
     "end_time": "2024-10-05T09:08:18.681941300Z",
     "start_time": "2024-10-05T09:08:18.327286300Z"
    }
   },
   "id": "8fdf10a72fac47cc",
   "execution_count": 5
  },
  {
   "cell_type": "markdown",
   "source": [
    "So as R-Squared is 0.079 we can say that the model is not a good fit for the data, because is too low."
   ],
   "metadata": {
    "collapsed": false
   },
   "id": "98a21fb45887485d"
  }
 ],
 "metadata": {
  "kernelspec": {
   "display_name": "Python 3",
   "language": "python",
   "name": "python3"
  },
  "language_info": {
   "codemirror_mode": {
    "name": "ipython",
    "version": 2
   },
   "file_extension": ".py",
   "mimetype": "text/x-python",
   "name": "python",
   "nbconvert_exporter": "python",
   "pygments_lexer": "ipython2",
   "version": "2.7.6"
  }
 },
 "nbformat": 4,
 "nbformat_minor": 5
}
