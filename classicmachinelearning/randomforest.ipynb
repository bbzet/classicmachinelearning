{
 "cells": [
  {
   "cell_type": "code",
   "execution_count": 260,
   "id": "initial_id",
   "metadata": {
    "collapsed": true,
    "ExecuteTime": {
     "end_time": "2024-11-06T11:52:33.508752500Z",
     "start_time": "2024-11-06T11:52:33.355690100Z"
    }
   },
   "outputs": [
    {
     "data": {
      "text/plain": "     car_ID  symboling                   CarName fueltype aspiration  \\\n0         1          3        alfa-romero giulia      gas        std   \n1         2          3       alfa-romero stelvio      gas        std   \n2         3          1  alfa-romero Quadrifoglio      gas        std   \n3         4          2               audi 100 ls      gas        std   \n4         5          2                audi 100ls      gas        std   \n..      ...        ...                       ...      ...        ...   \n200     201         -1           volvo 145e (sw)      gas        std   \n201     202         -1               volvo 144ea      gas      turbo   \n202     203         -1               volvo 244dl      gas        std   \n203     204         -1                 volvo 246   diesel      turbo   \n204     205         -1               volvo 264gl      gas      turbo   \n\n    doornumber      carbody drivewheel enginelocation  wheelbase  ...  \\\n0          two  convertible        rwd          front       88.6  ...   \n1          two  convertible        rwd          front       88.6  ...   \n2          two    hatchback        rwd          front       94.5  ...   \n3         four        sedan        fwd          front       99.8  ...   \n4         four        sedan        4wd          front       99.4  ...   \n..         ...          ...        ...            ...        ...  ...   \n200       four        sedan        rwd          front      109.1  ...   \n201       four        sedan        rwd          front      109.1  ...   \n202       four        sedan        rwd          front      109.1  ...   \n203       four        sedan        rwd          front      109.1  ...   \n204       four        sedan        rwd          front      109.1  ...   \n\n     enginesize  fuelsystem  boreratio  stroke compressionratio horsepower  \\\n0           130        mpfi       3.47    2.68              9.0        111   \n1           130        mpfi       3.47    2.68              9.0        111   \n2           152        mpfi       2.68    3.47              9.0        154   \n3           109        mpfi       3.19    3.40             10.0        102   \n4           136        mpfi       3.19    3.40              8.0        115   \n..          ...         ...        ...     ...              ...        ...   \n200         141        mpfi       3.78    3.15              9.5        114   \n201         141        mpfi       3.78    3.15              8.7        160   \n202         173        mpfi       3.58    2.87              8.8        134   \n203         145         idi       3.01    3.40             23.0        106   \n204         141        mpfi       3.78    3.15              9.5        114   \n\n     peakrpm citympg  highwaympg    price  \n0       5000      21          27  13495.0  \n1       5000      21          27  16500.0  \n2       5000      19          26  16500.0  \n3       5500      24          30  13950.0  \n4       5500      18          22  17450.0  \n..       ...     ...         ...      ...  \n200     5400      23          28  16845.0  \n201     5300      19          25  19045.0  \n202     5500      18          23  21485.0  \n203     4800      26          27  22470.0  \n204     5400      19          25  22625.0  \n\n[205 rows x 26 columns]",
      "text/html": "<div>\n<style scoped>\n    .dataframe tbody tr th:only-of-type {\n        vertical-align: middle;\n    }\n\n    .dataframe tbody tr th {\n        vertical-align: top;\n    }\n\n    .dataframe thead th {\n        text-align: right;\n    }\n</style>\n<table border=\"1\" class=\"dataframe\">\n  <thead>\n    <tr style=\"text-align: right;\">\n      <th></th>\n      <th>car_ID</th>\n      <th>symboling</th>\n      <th>CarName</th>\n      <th>fueltype</th>\n      <th>aspiration</th>\n      <th>doornumber</th>\n      <th>carbody</th>\n      <th>drivewheel</th>\n      <th>enginelocation</th>\n      <th>wheelbase</th>\n      <th>...</th>\n      <th>enginesize</th>\n      <th>fuelsystem</th>\n      <th>boreratio</th>\n      <th>stroke</th>\n      <th>compressionratio</th>\n      <th>horsepower</th>\n      <th>peakrpm</th>\n      <th>citympg</th>\n      <th>highwaympg</th>\n      <th>price</th>\n    </tr>\n  </thead>\n  <tbody>\n    <tr>\n      <th>0</th>\n      <td>1</td>\n      <td>3</td>\n      <td>alfa-romero giulia</td>\n      <td>gas</td>\n      <td>std</td>\n      <td>two</td>\n      <td>convertible</td>\n      <td>rwd</td>\n      <td>front</td>\n      <td>88.6</td>\n      <td>...</td>\n      <td>130</td>\n      <td>mpfi</td>\n      <td>3.47</td>\n      <td>2.68</td>\n      <td>9.0</td>\n      <td>111</td>\n      <td>5000</td>\n      <td>21</td>\n      <td>27</td>\n      <td>13495.0</td>\n    </tr>\n    <tr>\n      <th>1</th>\n      <td>2</td>\n      <td>3</td>\n      <td>alfa-romero stelvio</td>\n      <td>gas</td>\n      <td>std</td>\n      <td>two</td>\n      <td>convertible</td>\n      <td>rwd</td>\n      <td>front</td>\n      <td>88.6</td>\n      <td>...</td>\n      <td>130</td>\n      <td>mpfi</td>\n      <td>3.47</td>\n      <td>2.68</td>\n      <td>9.0</td>\n      <td>111</td>\n      <td>5000</td>\n      <td>21</td>\n      <td>27</td>\n      <td>16500.0</td>\n    </tr>\n    <tr>\n      <th>2</th>\n      <td>3</td>\n      <td>1</td>\n      <td>alfa-romero Quadrifoglio</td>\n      <td>gas</td>\n      <td>std</td>\n      <td>two</td>\n      <td>hatchback</td>\n      <td>rwd</td>\n      <td>front</td>\n      <td>94.5</td>\n      <td>...</td>\n      <td>152</td>\n      <td>mpfi</td>\n      <td>2.68</td>\n      <td>3.47</td>\n      <td>9.0</td>\n      <td>154</td>\n      <td>5000</td>\n      <td>19</td>\n      <td>26</td>\n      <td>16500.0</td>\n    </tr>\n    <tr>\n      <th>3</th>\n      <td>4</td>\n      <td>2</td>\n      <td>audi 100 ls</td>\n      <td>gas</td>\n      <td>std</td>\n      <td>four</td>\n      <td>sedan</td>\n      <td>fwd</td>\n      <td>front</td>\n      <td>99.8</td>\n      <td>...</td>\n      <td>109</td>\n      <td>mpfi</td>\n      <td>3.19</td>\n      <td>3.40</td>\n      <td>10.0</td>\n      <td>102</td>\n      <td>5500</td>\n      <td>24</td>\n      <td>30</td>\n      <td>13950.0</td>\n    </tr>\n    <tr>\n      <th>4</th>\n      <td>5</td>\n      <td>2</td>\n      <td>audi 100ls</td>\n      <td>gas</td>\n      <td>std</td>\n      <td>four</td>\n      <td>sedan</td>\n      <td>4wd</td>\n      <td>front</td>\n      <td>99.4</td>\n      <td>...</td>\n      <td>136</td>\n      <td>mpfi</td>\n      <td>3.19</td>\n      <td>3.40</td>\n      <td>8.0</td>\n      <td>115</td>\n      <td>5500</td>\n      <td>18</td>\n      <td>22</td>\n      <td>17450.0</td>\n    </tr>\n    <tr>\n      <th>...</th>\n      <td>...</td>\n      <td>...</td>\n      <td>...</td>\n      <td>...</td>\n      <td>...</td>\n      <td>...</td>\n      <td>...</td>\n      <td>...</td>\n      <td>...</td>\n      <td>...</td>\n      <td>...</td>\n      <td>...</td>\n      <td>...</td>\n      <td>...</td>\n      <td>...</td>\n      <td>...</td>\n      <td>...</td>\n      <td>...</td>\n      <td>...</td>\n      <td>...</td>\n      <td>...</td>\n    </tr>\n    <tr>\n      <th>200</th>\n      <td>201</td>\n      <td>-1</td>\n      <td>volvo 145e (sw)</td>\n      <td>gas</td>\n      <td>std</td>\n      <td>four</td>\n      <td>sedan</td>\n      <td>rwd</td>\n      <td>front</td>\n      <td>109.1</td>\n      <td>...</td>\n      <td>141</td>\n      <td>mpfi</td>\n      <td>3.78</td>\n      <td>3.15</td>\n      <td>9.5</td>\n      <td>114</td>\n      <td>5400</td>\n      <td>23</td>\n      <td>28</td>\n      <td>16845.0</td>\n    </tr>\n    <tr>\n      <th>201</th>\n      <td>202</td>\n      <td>-1</td>\n      <td>volvo 144ea</td>\n      <td>gas</td>\n      <td>turbo</td>\n      <td>four</td>\n      <td>sedan</td>\n      <td>rwd</td>\n      <td>front</td>\n      <td>109.1</td>\n      <td>...</td>\n      <td>141</td>\n      <td>mpfi</td>\n      <td>3.78</td>\n      <td>3.15</td>\n      <td>8.7</td>\n      <td>160</td>\n      <td>5300</td>\n      <td>19</td>\n      <td>25</td>\n      <td>19045.0</td>\n    </tr>\n    <tr>\n      <th>202</th>\n      <td>203</td>\n      <td>-1</td>\n      <td>volvo 244dl</td>\n      <td>gas</td>\n      <td>std</td>\n      <td>four</td>\n      <td>sedan</td>\n      <td>rwd</td>\n      <td>front</td>\n      <td>109.1</td>\n      <td>...</td>\n      <td>173</td>\n      <td>mpfi</td>\n      <td>3.58</td>\n      <td>2.87</td>\n      <td>8.8</td>\n      <td>134</td>\n      <td>5500</td>\n      <td>18</td>\n      <td>23</td>\n      <td>21485.0</td>\n    </tr>\n    <tr>\n      <th>203</th>\n      <td>204</td>\n      <td>-1</td>\n      <td>volvo 246</td>\n      <td>diesel</td>\n      <td>turbo</td>\n      <td>four</td>\n      <td>sedan</td>\n      <td>rwd</td>\n      <td>front</td>\n      <td>109.1</td>\n      <td>...</td>\n      <td>145</td>\n      <td>idi</td>\n      <td>3.01</td>\n      <td>3.40</td>\n      <td>23.0</td>\n      <td>106</td>\n      <td>4800</td>\n      <td>26</td>\n      <td>27</td>\n      <td>22470.0</td>\n    </tr>\n    <tr>\n      <th>204</th>\n      <td>205</td>\n      <td>-1</td>\n      <td>volvo 264gl</td>\n      <td>gas</td>\n      <td>turbo</td>\n      <td>four</td>\n      <td>sedan</td>\n      <td>rwd</td>\n      <td>front</td>\n      <td>109.1</td>\n      <td>...</td>\n      <td>141</td>\n      <td>mpfi</td>\n      <td>3.78</td>\n      <td>3.15</td>\n      <td>9.5</td>\n      <td>114</td>\n      <td>5400</td>\n      <td>19</td>\n      <td>25</td>\n      <td>22625.0</td>\n    </tr>\n  </tbody>\n</table>\n<p>205 rows × 26 columns</p>\n</div>"
     },
     "execution_count": 260,
     "metadata": {},
     "output_type": "execute_result"
    }
   ],
   "source": [
    "import pandas as pd\n",
    "from word2number import w2n\n",
    "from sklearn.preprocessing import MinMaxScaler\n",
    "from sklearn.model_selection import train_test_split\n",
    "from sklearn.ensemble import RandomForestRegressor\n",
    "\n",
    "df = pd.read_csv('CarPrice.csv', header=0)\n",
    "df"
   ]
  },
  {
   "cell_type": "code",
   "outputs": [
    {
     "data": {
      "text/plain": "                      CarName fueltype aspiration doornumber      carbody  \\\n0          alfa-romero giulia      gas        std        two  convertible   \n1         alfa-romero stelvio      gas        std        two  convertible   \n2    alfa-romero Quadrifoglio      gas        std        two    hatchback   \n3                 audi 100 ls      gas        std       four        sedan   \n4                  audi 100ls      gas        std       four        sedan   \n..                        ...      ...        ...        ...          ...   \n200           volvo 145e (sw)      gas        std       four        sedan   \n201               volvo 144ea      gas      turbo       four        sedan   \n202               volvo 244dl      gas        std       four        sedan   \n203                 volvo 246   diesel      turbo       four        sedan   \n204               volvo 264gl      gas      turbo       four        sedan   \n\n    drivewheel enginelocation  wheelbase  carlength  carwidth  ...  \\\n0          rwd          front       88.6      168.8      64.1  ...   \n1          rwd          front       88.6      168.8      64.1  ...   \n2          rwd          front       94.5      171.2      65.5  ...   \n3          fwd          front       99.8      176.6      66.2  ...   \n4          4wd          front       99.4      176.6      66.4  ...   \n..         ...            ...        ...        ...       ...  ...   \n200        rwd          front      109.1      188.8      68.9  ...   \n201        rwd          front      109.1      188.8      68.8  ...   \n202        rwd          front      109.1      188.8      68.9  ...   \n203        rwd          front      109.1      188.8      68.9  ...   \n204        rwd          front      109.1      188.8      68.9  ...   \n\n     enginesize  fuelsystem boreratio stroke  compressionratio horsepower  \\\n0           130        mpfi      3.47   2.68               9.0        111   \n1           130        mpfi      3.47   2.68               9.0        111   \n2           152        mpfi      2.68   3.47               9.0        154   \n3           109        mpfi      3.19   3.40              10.0        102   \n4           136        mpfi      3.19   3.40               8.0        115   \n..          ...         ...       ...    ...               ...        ...   \n200         141        mpfi      3.78   3.15               9.5        114   \n201         141        mpfi      3.78   3.15               8.7        160   \n202         173        mpfi      3.58   2.87               8.8        134   \n203         145         idi      3.01   3.40              23.0        106   \n204         141        mpfi      3.78   3.15               9.5        114   \n\n     peakrpm  citympg  highwaympg    price  \n0       5000       21          27  13495.0  \n1       5000       21          27  16500.0  \n2       5000       19          26  16500.0  \n3       5500       24          30  13950.0  \n4       5500       18          22  17450.0  \n..       ...      ...         ...      ...  \n200     5400       23          28  16845.0  \n201     5300       19          25  19045.0  \n202     5500       18          23  21485.0  \n203     4800       26          27  22470.0  \n204     5400       19          25  22625.0  \n\n[205 rows x 24 columns]",
      "text/html": "<div>\n<style scoped>\n    .dataframe tbody tr th:only-of-type {\n        vertical-align: middle;\n    }\n\n    .dataframe tbody tr th {\n        vertical-align: top;\n    }\n\n    .dataframe thead th {\n        text-align: right;\n    }\n</style>\n<table border=\"1\" class=\"dataframe\">\n  <thead>\n    <tr style=\"text-align: right;\">\n      <th></th>\n      <th>CarName</th>\n      <th>fueltype</th>\n      <th>aspiration</th>\n      <th>doornumber</th>\n      <th>carbody</th>\n      <th>drivewheel</th>\n      <th>enginelocation</th>\n      <th>wheelbase</th>\n      <th>carlength</th>\n      <th>carwidth</th>\n      <th>...</th>\n      <th>enginesize</th>\n      <th>fuelsystem</th>\n      <th>boreratio</th>\n      <th>stroke</th>\n      <th>compressionratio</th>\n      <th>horsepower</th>\n      <th>peakrpm</th>\n      <th>citympg</th>\n      <th>highwaympg</th>\n      <th>price</th>\n    </tr>\n  </thead>\n  <tbody>\n    <tr>\n      <th>0</th>\n      <td>alfa-romero giulia</td>\n      <td>gas</td>\n      <td>std</td>\n      <td>two</td>\n      <td>convertible</td>\n      <td>rwd</td>\n      <td>front</td>\n      <td>88.6</td>\n      <td>168.8</td>\n      <td>64.1</td>\n      <td>...</td>\n      <td>130</td>\n      <td>mpfi</td>\n      <td>3.47</td>\n      <td>2.68</td>\n      <td>9.0</td>\n      <td>111</td>\n      <td>5000</td>\n      <td>21</td>\n      <td>27</td>\n      <td>13495.0</td>\n    </tr>\n    <tr>\n      <th>1</th>\n      <td>alfa-romero stelvio</td>\n      <td>gas</td>\n      <td>std</td>\n      <td>two</td>\n      <td>convertible</td>\n      <td>rwd</td>\n      <td>front</td>\n      <td>88.6</td>\n      <td>168.8</td>\n      <td>64.1</td>\n      <td>...</td>\n      <td>130</td>\n      <td>mpfi</td>\n      <td>3.47</td>\n      <td>2.68</td>\n      <td>9.0</td>\n      <td>111</td>\n      <td>5000</td>\n      <td>21</td>\n      <td>27</td>\n      <td>16500.0</td>\n    </tr>\n    <tr>\n      <th>2</th>\n      <td>alfa-romero Quadrifoglio</td>\n      <td>gas</td>\n      <td>std</td>\n      <td>two</td>\n      <td>hatchback</td>\n      <td>rwd</td>\n      <td>front</td>\n      <td>94.5</td>\n      <td>171.2</td>\n      <td>65.5</td>\n      <td>...</td>\n      <td>152</td>\n      <td>mpfi</td>\n      <td>2.68</td>\n      <td>3.47</td>\n      <td>9.0</td>\n      <td>154</td>\n      <td>5000</td>\n      <td>19</td>\n      <td>26</td>\n      <td>16500.0</td>\n    </tr>\n    <tr>\n      <th>3</th>\n      <td>audi 100 ls</td>\n      <td>gas</td>\n      <td>std</td>\n      <td>four</td>\n      <td>sedan</td>\n      <td>fwd</td>\n      <td>front</td>\n      <td>99.8</td>\n      <td>176.6</td>\n      <td>66.2</td>\n      <td>...</td>\n      <td>109</td>\n      <td>mpfi</td>\n      <td>3.19</td>\n      <td>3.40</td>\n      <td>10.0</td>\n      <td>102</td>\n      <td>5500</td>\n      <td>24</td>\n      <td>30</td>\n      <td>13950.0</td>\n    </tr>\n    <tr>\n      <th>4</th>\n      <td>audi 100ls</td>\n      <td>gas</td>\n      <td>std</td>\n      <td>four</td>\n      <td>sedan</td>\n      <td>4wd</td>\n      <td>front</td>\n      <td>99.4</td>\n      <td>176.6</td>\n      <td>66.4</td>\n      <td>...</td>\n      <td>136</td>\n      <td>mpfi</td>\n      <td>3.19</td>\n      <td>3.40</td>\n      <td>8.0</td>\n      <td>115</td>\n      <td>5500</td>\n      <td>18</td>\n      <td>22</td>\n      <td>17450.0</td>\n    </tr>\n    <tr>\n      <th>...</th>\n      <td>...</td>\n      <td>...</td>\n      <td>...</td>\n      <td>...</td>\n      <td>...</td>\n      <td>...</td>\n      <td>...</td>\n      <td>...</td>\n      <td>...</td>\n      <td>...</td>\n      <td>...</td>\n      <td>...</td>\n      <td>...</td>\n      <td>...</td>\n      <td>...</td>\n      <td>...</td>\n      <td>...</td>\n      <td>...</td>\n      <td>...</td>\n      <td>...</td>\n      <td>...</td>\n    </tr>\n    <tr>\n      <th>200</th>\n      <td>volvo 145e (sw)</td>\n      <td>gas</td>\n      <td>std</td>\n      <td>four</td>\n      <td>sedan</td>\n      <td>rwd</td>\n      <td>front</td>\n      <td>109.1</td>\n      <td>188.8</td>\n      <td>68.9</td>\n      <td>...</td>\n      <td>141</td>\n      <td>mpfi</td>\n      <td>3.78</td>\n      <td>3.15</td>\n      <td>9.5</td>\n      <td>114</td>\n      <td>5400</td>\n      <td>23</td>\n      <td>28</td>\n      <td>16845.0</td>\n    </tr>\n    <tr>\n      <th>201</th>\n      <td>volvo 144ea</td>\n      <td>gas</td>\n      <td>turbo</td>\n      <td>four</td>\n      <td>sedan</td>\n      <td>rwd</td>\n      <td>front</td>\n      <td>109.1</td>\n      <td>188.8</td>\n      <td>68.8</td>\n      <td>...</td>\n      <td>141</td>\n      <td>mpfi</td>\n      <td>3.78</td>\n      <td>3.15</td>\n      <td>8.7</td>\n      <td>160</td>\n      <td>5300</td>\n      <td>19</td>\n      <td>25</td>\n      <td>19045.0</td>\n    </tr>\n    <tr>\n      <th>202</th>\n      <td>volvo 244dl</td>\n      <td>gas</td>\n      <td>std</td>\n      <td>four</td>\n      <td>sedan</td>\n      <td>rwd</td>\n      <td>front</td>\n      <td>109.1</td>\n      <td>188.8</td>\n      <td>68.9</td>\n      <td>...</td>\n      <td>173</td>\n      <td>mpfi</td>\n      <td>3.58</td>\n      <td>2.87</td>\n      <td>8.8</td>\n      <td>134</td>\n      <td>5500</td>\n      <td>18</td>\n      <td>23</td>\n      <td>21485.0</td>\n    </tr>\n    <tr>\n      <th>203</th>\n      <td>volvo 246</td>\n      <td>diesel</td>\n      <td>turbo</td>\n      <td>four</td>\n      <td>sedan</td>\n      <td>rwd</td>\n      <td>front</td>\n      <td>109.1</td>\n      <td>188.8</td>\n      <td>68.9</td>\n      <td>...</td>\n      <td>145</td>\n      <td>idi</td>\n      <td>3.01</td>\n      <td>3.40</td>\n      <td>23.0</td>\n      <td>106</td>\n      <td>4800</td>\n      <td>26</td>\n      <td>27</td>\n      <td>22470.0</td>\n    </tr>\n    <tr>\n      <th>204</th>\n      <td>volvo 264gl</td>\n      <td>gas</td>\n      <td>turbo</td>\n      <td>four</td>\n      <td>sedan</td>\n      <td>rwd</td>\n      <td>front</td>\n      <td>109.1</td>\n      <td>188.8</td>\n      <td>68.9</td>\n      <td>...</td>\n      <td>141</td>\n      <td>mpfi</td>\n      <td>3.78</td>\n      <td>3.15</td>\n      <td>9.5</td>\n      <td>114</td>\n      <td>5400</td>\n      <td>19</td>\n      <td>25</td>\n      <td>22625.0</td>\n    </tr>\n  </tbody>\n</table>\n<p>205 rows × 24 columns</p>\n</div>"
     },
     "execution_count": 261,
     "metadata": {},
     "output_type": "execute_result"
    }
   ],
   "source": [
    "df.drop(columns=['car_ID', 'symboling'], inplace=True)\n",
    "df"
   ],
   "metadata": {
    "collapsed": false,
    "ExecuteTime": {
     "end_time": "2024-11-06T11:52:33.604082300Z",
     "start_time": "2024-11-06T11:52:33.513108700Z"
    }
   },
   "id": "2f4daece50e2b9cb",
   "execution_count": 261
  },
  {
   "cell_type": "code",
   "outputs": [
    {
     "data": {
      "text/plain": "         CarName fueltype aspiration doornumber      carbody drivewheel  \\\n0    alfa-romero      gas        std        two  convertible        rwd   \n1    alfa-romero      gas        std        two  convertible        rwd   \n2    alfa-romero      gas        std        two    hatchback        rwd   \n3           audi      gas        std       four        sedan        fwd   \n4           audi      gas        std       four        sedan        4wd   \n..           ...      ...        ...        ...          ...        ...   \n200        volvo      gas        std       four        sedan        rwd   \n201        volvo      gas      turbo       four        sedan        rwd   \n202        volvo      gas        std       four        sedan        rwd   \n203        volvo   diesel      turbo       four        sedan        rwd   \n204        volvo      gas      turbo       four        sedan        rwd   \n\n    enginelocation  wheelbase  carlength  carwidth  ...  enginesize  \\\n0            front       88.6      168.8      64.1  ...         130   \n1            front       88.6      168.8      64.1  ...         130   \n2            front       94.5      171.2      65.5  ...         152   \n3            front       99.8      176.6      66.2  ...         109   \n4            front       99.4      176.6      66.4  ...         136   \n..             ...        ...        ...       ...  ...         ...   \n200          front      109.1      188.8      68.9  ...         141   \n201          front      109.1      188.8      68.8  ...         141   \n202          front      109.1      188.8      68.9  ...         173   \n203          front      109.1      188.8      68.9  ...         145   \n204          front      109.1      188.8      68.9  ...         141   \n\n     fuelsystem boreratio stroke  compressionratio horsepower  peakrpm  \\\n0          mpfi      3.47   2.68               9.0        111     5000   \n1          mpfi      3.47   2.68               9.0        111     5000   \n2          mpfi      2.68   3.47               9.0        154     5000   \n3          mpfi      3.19   3.40              10.0        102     5500   \n4          mpfi      3.19   3.40               8.0        115     5500   \n..          ...       ...    ...               ...        ...      ...   \n200        mpfi      3.78   3.15               9.5        114     5400   \n201        mpfi      3.78   3.15               8.7        160     5300   \n202        mpfi      3.58   2.87               8.8        134     5500   \n203         idi      3.01   3.40              23.0        106     4800   \n204        mpfi      3.78   3.15               9.5        114     5400   \n\n     citympg  highwaympg    price  \n0         21          27  13495.0  \n1         21          27  16500.0  \n2         19          26  16500.0  \n3         24          30  13950.0  \n4         18          22  17450.0  \n..       ...         ...      ...  \n200       23          28  16845.0  \n201       19          25  19045.0  \n202       18          23  21485.0  \n203       26          27  22470.0  \n204       19          25  22625.0  \n\n[205 rows x 24 columns]",
      "text/html": "<div>\n<style scoped>\n    .dataframe tbody tr th:only-of-type {\n        vertical-align: middle;\n    }\n\n    .dataframe tbody tr th {\n        vertical-align: top;\n    }\n\n    .dataframe thead th {\n        text-align: right;\n    }\n</style>\n<table border=\"1\" class=\"dataframe\">\n  <thead>\n    <tr style=\"text-align: right;\">\n      <th></th>\n      <th>CarName</th>\n      <th>fueltype</th>\n      <th>aspiration</th>\n      <th>doornumber</th>\n      <th>carbody</th>\n      <th>drivewheel</th>\n      <th>enginelocation</th>\n      <th>wheelbase</th>\n      <th>carlength</th>\n      <th>carwidth</th>\n      <th>...</th>\n      <th>enginesize</th>\n      <th>fuelsystem</th>\n      <th>boreratio</th>\n      <th>stroke</th>\n      <th>compressionratio</th>\n      <th>horsepower</th>\n      <th>peakrpm</th>\n      <th>citympg</th>\n      <th>highwaympg</th>\n      <th>price</th>\n    </tr>\n  </thead>\n  <tbody>\n    <tr>\n      <th>0</th>\n      <td>alfa-romero</td>\n      <td>gas</td>\n      <td>std</td>\n      <td>two</td>\n      <td>convertible</td>\n      <td>rwd</td>\n      <td>front</td>\n      <td>88.6</td>\n      <td>168.8</td>\n      <td>64.1</td>\n      <td>...</td>\n      <td>130</td>\n      <td>mpfi</td>\n      <td>3.47</td>\n      <td>2.68</td>\n      <td>9.0</td>\n      <td>111</td>\n      <td>5000</td>\n      <td>21</td>\n      <td>27</td>\n      <td>13495.0</td>\n    </tr>\n    <tr>\n      <th>1</th>\n      <td>alfa-romero</td>\n      <td>gas</td>\n      <td>std</td>\n      <td>two</td>\n      <td>convertible</td>\n      <td>rwd</td>\n      <td>front</td>\n      <td>88.6</td>\n      <td>168.8</td>\n      <td>64.1</td>\n      <td>...</td>\n      <td>130</td>\n      <td>mpfi</td>\n      <td>3.47</td>\n      <td>2.68</td>\n      <td>9.0</td>\n      <td>111</td>\n      <td>5000</td>\n      <td>21</td>\n      <td>27</td>\n      <td>16500.0</td>\n    </tr>\n    <tr>\n      <th>2</th>\n      <td>alfa-romero</td>\n      <td>gas</td>\n      <td>std</td>\n      <td>two</td>\n      <td>hatchback</td>\n      <td>rwd</td>\n      <td>front</td>\n      <td>94.5</td>\n      <td>171.2</td>\n      <td>65.5</td>\n      <td>...</td>\n      <td>152</td>\n      <td>mpfi</td>\n      <td>2.68</td>\n      <td>3.47</td>\n      <td>9.0</td>\n      <td>154</td>\n      <td>5000</td>\n      <td>19</td>\n      <td>26</td>\n      <td>16500.0</td>\n    </tr>\n    <tr>\n      <th>3</th>\n      <td>audi</td>\n      <td>gas</td>\n      <td>std</td>\n      <td>four</td>\n      <td>sedan</td>\n      <td>fwd</td>\n      <td>front</td>\n      <td>99.8</td>\n      <td>176.6</td>\n      <td>66.2</td>\n      <td>...</td>\n      <td>109</td>\n      <td>mpfi</td>\n      <td>3.19</td>\n      <td>3.40</td>\n      <td>10.0</td>\n      <td>102</td>\n      <td>5500</td>\n      <td>24</td>\n      <td>30</td>\n      <td>13950.0</td>\n    </tr>\n    <tr>\n      <th>4</th>\n      <td>audi</td>\n      <td>gas</td>\n      <td>std</td>\n      <td>four</td>\n      <td>sedan</td>\n      <td>4wd</td>\n      <td>front</td>\n      <td>99.4</td>\n      <td>176.6</td>\n      <td>66.4</td>\n      <td>...</td>\n      <td>136</td>\n      <td>mpfi</td>\n      <td>3.19</td>\n      <td>3.40</td>\n      <td>8.0</td>\n      <td>115</td>\n      <td>5500</td>\n      <td>18</td>\n      <td>22</td>\n      <td>17450.0</td>\n    </tr>\n    <tr>\n      <th>...</th>\n      <td>...</td>\n      <td>...</td>\n      <td>...</td>\n      <td>...</td>\n      <td>...</td>\n      <td>...</td>\n      <td>...</td>\n      <td>...</td>\n      <td>...</td>\n      <td>...</td>\n      <td>...</td>\n      <td>...</td>\n      <td>...</td>\n      <td>...</td>\n      <td>...</td>\n      <td>...</td>\n      <td>...</td>\n      <td>...</td>\n      <td>...</td>\n      <td>...</td>\n      <td>...</td>\n    </tr>\n    <tr>\n      <th>200</th>\n      <td>volvo</td>\n      <td>gas</td>\n      <td>std</td>\n      <td>four</td>\n      <td>sedan</td>\n      <td>rwd</td>\n      <td>front</td>\n      <td>109.1</td>\n      <td>188.8</td>\n      <td>68.9</td>\n      <td>...</td>\n      <td>141</td>\n      <td>mpfi</td>\n      <td>3.78</td>\n      <td>3.15</td>\n      <td>9.5</td>\n      <td>114</td>\n      <td>5400</td>\n      <td>23</td>\n      <td>28</td>\n      <td>16845.0</td>\n    </tr>\n    <tr>\n      <th>201</th>\n      <td>volvo</td>\n      <td>gas</td>\n      <td>turbo</td>\n      <td>four</td>\n      <td>sedan</td>\n      <td>rwd</td>\n      <td>front</td>\n      <td>109.1</td>\n      <td>188.8</td>\n      <td>68.8</td>\n      <td>...</td>\n      <td>141</td>\n      <td>mpfi</td>\n      <td>3.78</td>\n      <td>3.15</td>\n      <td>8.7</td>\n      <td>160</td>\n      <td>5300</td>\n      <td>19</td>\n      <td>25</td>\n      <td>19045.0</td>\n    </tr>\n    <tr>\n      <th>202</th>\n      <td>volvo</td>\n      <td>gas</td>\n      <td>std</td>\n      <td>four</td>\n      <td>sedan</td>\n      <td>rwd</td>\n      <td>front</td>\n      <td>109.1</td>\n      <td>188.8</td>\n      <td>68.9</td>\n      <td>...</td>\n      <td>173</td>\n      <td>mpfi</td>\n      <td>3.58</td>\n      <td>2.87</td>\n      <td>8.8</td>\n      <td>134</td>\n      <td>5500</td>\n      <td>18</td>\n      <td>23</td>\n      <td>21485.0</td>\n    </tr>\n    <tr>\n      <th>203</th>\n      <td>volvo</td>\n      <td>diesel</td>\n      <td>turbo</td>\n      <td>four</td>\n      <td>sedan</td>\n      <td>rwd</td>\n      <td>front</td>\n      <td>109.1</td>\n      <td>188.8</td>\n      <td>68.9</td>\n      <td>...</td>\n      <td>145</td>\n      <td>idi</td>\n      <td>3.01</td>\n      <td>3.40</td>\n      <td>23.0</td>\n      <td>106</td>\n      <td>4800</td>\n      <td>26</td>\n      <td>27</td>\n      <td>22470.0</td>\n    </tr>\n    <tr>\n      <th>204</th>\n      <td>volvo</td>\n      <td>gas</td>\n      <td>turbo</td>\n      <td>four</td>\n      <td>sedan</td>\n      <td>rwd</td>\n      <td>front</td>\n      <td>109.1</td>\n      <td>188.8</td>\n      <td>68.9</td>\n      <td>...</td>\n      <td>141</td>\n      <td>mpfi</td>\n      <td>3.78</td>\n      <td>3.15</td>\n      <td>9.5</td>\n      <td>114</td>\n      <td>5400</td>\n      <td>19</td>\n      <td>25</td>\n      <td>22625.0</td>\n    </tr>\n  </tbody>\n</table>\n<p>205 rows × 24 columns</p>\n</div>"
     },
     "execution_count": 262,
     "metadata": {},
     "output_type": "execute_result"
    }
   ],
   "source": [
    "column = [x.split()[0] for x in df['CarName']]\n",
    "df['CarName'] = column\n",
    "df"
   ],
   "metadata": {
    "collapsed": false,
    "ExecuteTime": {
     "end_time": "2024-11-06T11:52:33.664289100Z",
     "start_time": "2024-11-06T11:52:33.559918200Z"
    }
   },
   "id": "7a4acefb9c96ac57",
   "execution_count": 262
  },
  {
   "cell_type": "code",
   "outputs": [
    {
     "data": {
      "text/plain": "array(['alfa-romero', 'audi', 'bmw', 'chevrolet', 'dodge', 'honda',\n       'isuzu', 'jaguar', 'maxda', 'mazda', 'buick', 'mercury',\n       'mitsubishi', 'Nissan', 'nissan', 'peugeot', 'plymouth', 'porsche',\n       'porcshce', 'renault', 'saab', 'subaru', 'toyota', 'toyouta',\n       'vokswagen', 'volkswagen', 'vw', 'volvo'], dtype=object)"
     },
     "execution_count": 263,
     "metadata": {},
     "output_type": "execute_result"
    }
   ],
   "source": [
    "df['CarName'].unique()"
   ],
   "metadata": {
    "collapsed": false,
    "ExecuteTime": {
     "end_time": "2024-11-06T11:52:33.684386800Z",
     "start_time": "2024-11-06T11:52:33.611833700Z"
    }
   },
   "id": "1b7f0e734ad3ff80",
   "execution_count": 263
  },
  {
   "cell_type": "code",
   "outputs": [
    {
     "data": {
      "text/plain": "         CarName fueltype aspiration  doornumber      carbody drivewheel  \\\n0    alfa-romero      gas        std           2  convertible        rwd   \n1    alfa-romero      gas        std           2  convertible        rwd   \n2    alfa-romero      gas        std           2    hatchback        rwd   \n3           audi      gas        std           4        sedan        fwd   \n4           audi      gas        std           4        sedan        4wd   \n..           ...      ...        ...         ...          ...        ...   \n200        volvo      gas        std           4        sedan        rwd   \n201        volvo      gas      turbo           4        sedan        rwd   \n202        volvo      gas        std           4        sedan        rwd   \n203        volvo   diesel      turbo           4        sedan        rwd   \n204        volvo      gas      turbo           4        sedan        rwd   \n\n    enginelocation  wheelbase  carlength  carwidth  ...  enginesize  \\\n0            front       88.6      168.8      64.1  ...         130   \n1            front       88.6      168.8      64.1  ...         130   \n2            front       94.5      171.2      65.5  ...         152   \n3            front       99.8      176.6      66.2  ...         109   \n4            front       99.4      176.6      66.4  ...         136   \n..             ...        ...        ...       ...  ...         ...   \n200          front      109.1      188.8      68.9  ...         141   \n201          front      109.1      188.8      68.8  ...         141   \n202          front      109.1      188.8      68.9  ...         173   \n203          front      109.1      188.8      68.9  ...         145   \n204          front      109.1      188.8      68.9  ...         141   \n\n     fuelsystem boreratio  stroke  compressionratio horsepower  peakrpm  \\\n0          mpfi      3.47    2.68               9.0        111     5000   \n1          mpfi      3.47    2.68               9.0        111     5000   \n2          mpfi      2.68    3.47               9.0        154     5000   \n3          mpfi      3.19    3.40              10.0        102     5500   \n4          mpfi      3.19    3.40               8.0        115     5500   \n..          ...       ...     ...               ...        ...      ...   \n200        mpfi      3.78    3.15               9.5        114     5400   \n201        mpfi      3.78    3.15               8.7        160     5300   \n202        mpfi      3.58    2.87               8.8        134     5500   \n203         idi      3.01    3.40              23.0        106     4800   \n204        mpfi      3.78    3.15               9.5        114     5400   \n\n     citympg  highwaympg    price  \n0         21          27  13495.0  \n1         21          27  16500.0  \n2         19          26  16500.0  \n3         24          30  13950.0  \n4         18          22  17450.0  \n..       ...         ...      ...  \n200       23          28  16845.0  \n201       19          25  19045.0  \n202       18          23  21485.0  \n203       26          27  22470.0  \n204       19          25  22625.0  \n\n[205 rows x 24 columns]",
      "text/html": "<div>\n<style scoped>\n    .dataframe tbody tr th:only-of-type {\n        vertical-align: middle;\n    }\n\n    .dataframe tbody tr th {\n        vertical-align: top;\n    }\n\n    .dataframe thead th {\n        text-align: right;\n    }\n</style>\n<table border=\"1\" class=\"dataframe\">\n  <thead>\n    <tr style=\"text-align: right;\">\n      <th></th>\n      <th>CarName</th>\n      <th>fueltype</th>\n      <th>aspiration</th>\n      <th>doornumber</th>\n      <th>carbody</th>\n      <th>drivewheel</th>\n      <th>enginelocation</th>\n      <th>wheelbase</th>\n      <th>carlength</th>\n      <th>carwidth</th>\n      <th>...</th>\n      <th>enginesize</th>\n      <th>fuelsystem</th>\n      <th>boreratio</th>\n      <th>stroke</th>\n      <th>compressionratio</th>\n      <th>horsepower</th>\n      <th>peakrpm</th>\n      <th>citympg</th>\n      <th>highwaympg</th>\n      <th>price</th>\n    </tr>\n  </thead>\n  <tbody>\n    <tr>\n      <th>0</th>\n      <td>alfa-romero</td>\n      <td>gas</td>\n      <td>std</td>\n      <td>2</td>\n      <td>convertible</td>\n      <td>rwd</td>\n      <td>front</td>\n      <td>88.6</td>\n      <td>168.8</td>\n      <td>64.1</td>\n      <td>...</td>\n      <td>130</td>\n      <td>mpfi</td>\n      <td>3.47</td>\n      <td>2.68</td>\n      <td>9.0</td>\n      <td>111</td>\n      <td>5000</td>\n      <td>21</td>\n      <td>27</td>\n      <td>13495.0</td>\n    </tr>\n    <tr>\n      <th>1</th>\n      <td>alfa-romero</td>\n      <td>gas</td>\n      <td>std</td>\n      <td>2</td>\n      <td>convertible</td>\n      <td>rwd</td>\n      <td>front</td>\n      <td>88.6</td>\n      <td>168.8</td>\n      <td>64.1</td>\n      <td>...</td>\n      <td>130</td>\n      <td>mpfi</td>\n      <td>3.47</td>\n      <td>2.68</td>\n      <td>9.0</td>\n      <td>111</td>\n      <td>5000</td>\n      <td>21</td>\n      <td>27</td>\n      <td>16500.0</td>\n    </tr>\n    <tr>\n      <th>2</th>\n      <td>alfa-romero</td>\n      <td>gas</td>\n      <td>std</td>\n      <td>2</td>\n      <td>hatchback</td>\n      <td>rwd</td>\n      <td>front</td>\n      <td>94.5</td>\n      <td>171.2</td>\n      <td>65.5</td>\n      <td>...</td>\n      <td>152</td>\n      <td>mpfi</td>\n      <td>2.68</td>\n      <td>3.47</td>\n      <td>9.0</td>\n      <td>154</td>\n      <td>5000</td>\n      <td>19</td>\n      <td>26</td>\n      <td>16500.0</td>\n    </tr>\n    <tr>\n      <th>3</th>\n      <td>audi</td>\n      <td>gas</td>\n      <td>std</td>\n      <td>4</td>\n      <td>sedan</td>\n      <td>fwd</td>\n      <td>front</td>\n      <td>99.8</td>\n      <td>176.6</td>\n      <td>66.2</td>\n      <td>...</td>\n      <td>109</td>\n      <td>mpfi</td>\n      <td>3.19</td>\n      <td>3.40</td>\n      <td>10.0</td>\n      <td>102</td>\n      <td>5500</td>\n      <td>24</td>\n      <td>30</td>\n      <td>13950.0</td>\n    </tr>\n    <tr>\n      <th>4</th>\n      <td>audi</td>\n      <td>gas</td>\n      <td>std</td>\n      <td>4</td>\n      <td>sedan</td>\n      <td>4wd</td>\n      <td>front</td>\n      <td>99.4</td>\n      <td>176.6</td>\n      <td>66.4</td>\n      <td>...</td>\n      <td>136</td>\n      <td>mpfi</td>\n      <td>3.19</td>\n      <td>3.40</td>\n      <td>8.0</td>\n      <td>115</td>\n      <td>5500</td>\n      <td>18</td>\n      <td>22</td>\n      <td>17450.0</td>\n    </tr>\n    <tr>\n      <th>...</th>\n      <td>...</td>\n      <td>...</td>\n      <td>...</td>\n      <td>...</td>\n      <td>...</td>\n      <td>...</td>\n      <td>...</td>\n      <td>...</td>\n      <td>...</td>\n      <td>...</td>\n      <td>...</td>\n      <td>...</td>\n      <td>...</td>\n      <td>...</td>\n      <td>...</td>\n      <td>...</td>\n      <td>...</td>\n      <td>...</td>\n      <td>...</td>\n      <td>...</td>\n      <td>...</td>\n    </tr>\n    <tr>\n      <th>200</th>\n      <td>volvo</td>\n      <td>gas</td>\n      <td>std</td>\n      <td>4</td>\n      <td>sedan</td>\n      <td>rwd</td>\n      <td>front</td>\n      <td>109.1</td>\n      <td>188.8</td>\n      <td>68.9</td>\n      <td>...</td>\n      <td>141</td>\n      <td>mpfi</td>\n      <td>3.78</td>\n      <td>3.15</td>\n      <td>9.5</td>\n      <td>114</td>\n      <td>5400</td>\n      <td>23</td>\n      <td>28</td>\n      <td>16845.0</td>\n    </tr>\n    <tr>\n      <th>201</th>\n      <td>volvo</td>\n      <td>gas</td>\n      <td>turbo</td>\n      <td>4</td>\n      <td>sedan</td>\n      <td>rwd</td>\n      <td>front</td>\n      <td>109.1</td>\n      <td>188.8</td>\n      <td>68.8</td>\n      <td>...</td>\n      <td>141</td>\n      <td>mpfi</td>\n      <td>3.78</td>\n      <td>3.15</td>\n      <td>8.7</td>\n      <td>160</td>\n      <td>5300</td>\n      <td>19</td>\n      <td>25</td>\n      <td>19045.0</td>\n    </tr>\n    <tr>\n      <th>202</th>\n      <td>volvo</td>\n      <td>gas</td>\n      <td>std</td>\n      <td>4</td>\n      <td>sedan</td>\n      <td>rwd</td>\n      <td>front</td>\n      <td>109.1</td>\n      <td>188.8</td>\n      <td>68.9</td>\n      <td>...</td>\n      <td>173</td>\n      <td>mpfi</td>\n      <td>3.58</td>\n      <td>2.87</td>\n      <td>8.8</td>\n      <td>134</td>\n      <td>5500</td>\n      <td>18</td>\n      <td>23</td>\n      <td>21485.0</td>\n    </tr>\n    <tr>\n      <th>203</th>\n      <td>volvo</td>\n      <td>diesel</td>\n      <td>turbo</td>\n      <td>4</td>\n      <td>sedan</td>\n      <td>rwd</td>\n      <td>front</td>\n      <td>109.1</td>\n      <td>188.8</td>\n      <td>68.9</td>\n      <td>...</td>\n      <td>145</td>\n      <td>idi</td>\n      <td>3.01</td>\n      <td>3.40</td>\n      <td>23.0</td>\n      <td>106</td>\n      <td>4800</td>\n      <td>26</td>\n      <td>27</td>\n      <td>22470.0</td>\n    </tr>\n    <tr>\n      <th>204</th>\n      <td>volvo</td>\n      <td>gas</td>\n      <td>turbo</td>\n      <td>4</td>\n      <td>sedan</td>\n      <td>rwd</td>\n      <td>front</td>\n      <td>109.1</td>\n      <td>188.8</td>\n      <td>68.9</td>\n      <td>...</td>\n      <td>141</td>\n      <td>mpfi</td>\n      <td>3.78</td>\n      <td>3.15</td>\n      <td>9.5</td>\n      <td>114</td>\n      <td>5400</td>\n      <td>19</td>\n      <td>25</td>\n      <td>22625.0</td>\n    </tr>\n  </tbody>\n</table>\n<p>205 rows × 24 columns</p>\n</div>"
     },
     "execution_count": 264,
     "metadata": {},
     "output_type": "execute_result"
    }
   ],
   "source": [
    "numbers = []\n",
    "for i in df['cylindernumber']:\n",
    "    numbers.append(w2n.word_to_num(i))\n",
    "dnumbers = []\n",
    "for i in df['doornumber']:\n",
    "    dnumbers.append(w2n.word_to_num(i))\n",
    "    \n",
    "df['cylindernumber'] = numbers\n",
    "df['doornumber'] = dnumbers\n",
    "df"
   ],
   "metadata": {
    "collapsed": false,
    "ExecuteTime": {
     "end_time": "2024-11-06T11:52:33.783615900Z",
     "start_time": "2024-11-06T11:52:33.673991400Z"
    }
   },
   "id": "1809a4ed2ce63cc6",
   "execution_count": 264
  },
  {
   "cell_type": "code",
   "outputs": [
    {
     "data": {
      "text/plain": "fueltype          2\naspiration        2\ncarbody           5\ndrivewheel        3\nenginelocation    2\nenginetype        7\nfuelsystem        8\ndtype: int64"
     },
     "execution_count": 265,
     "metadata": {},
     "output_type": "execute_result"
    }
   ],
   "source": [
    "df[['fueltype', 'aspiration', 'carbody', 'drivewheel', 'enginelocation', 'enginetype', 'fuelsystem',]].nunique() \n"
   ],
   "metadata": {
    "collapsed": false,
    "ExecuteTime": {
     "end_time": "2024-11-06T11:52:33.890469400Z",
     "start_time": "2024-11-06T11:52:33.780615400Z"
    }
   },
   "id": "5de6a4875ee94e68",
   "execution_count": 265
  },
  {
   "cell_type": "code",
   "outputs": [
    {
     "data": {
      "text/plain": "         CarName  doornumber  wheelbase  carlength  carwidth  carheight  \\\n0    alfa-romero           2       88.6      168.8      64.1       48.8   \n1    alfa-romero           2       88.6      168.8      64.1       48.8   \n2    alfa-romero           2       94.5      171.2      65.5       52.4   \n3           audi           4       99.8      176.6      66.2       54.3   \n4           audi           4       99.4      176.6      66.4       54.3   \n..           ...         ...        ...        ...       ...        ...   \n200        volvo           4      109.1      188.8      68.9       55.5   \n201        volvo           4      109.1      188.8      68.8       55.5   \n202        volvo           4      109.1      188.8      68.9       55.5   \n203        volvo           4      109.1      188.8      68.9       55.5   \n204        volvo           4      109.1      188.8      68.9       55.5   \n\n     curbweight  cylindernumber  enginesize  boreratio  ...  enginetype_ohcv  \\\n0          2548               4         130       3.47  ...            False   \n1          2548               4         130       3.47  ...            False   \n2          2823               6         152       2.68  ...             True   \n3          2337               4         109       3.19  ...            False   \n4          2824               5         136       3.19  ...            False   \n..          ...             ...         ...        ...  ...              ...   \n200        2952               4         141       3.78  ...            False   \n201        3049               4         141       3.78  ...            False   \n202        3012               6         173       3.58  ...             True   \n203        3217               6         145       3.01  ...            False   \n204        3062               4         141       3.78  ...            False   \n\n     enginetype_rotor  fuelsystem_1bbl  fuelsystem_2bbl  fuelsystem_4bbl  \\\n0               False            False            False            False   \n1               False            False            False            False   \n2               False            False            False            False   \n3               False            False            False            False   \n4               False            False            False            False   \n..                ...              ...              ...              ...   \n200             False            False            False            False   \n201             False            False            False            False   \n202             False            False            False            False   \n203             False            False            False            False   \n204             False            False            False            False   \n\n     fuelsystem_idi  fuelsystem_mfi  fuelsystem_mpfi  fuelsystem_spdi  \\\n0             False           False             True            False   \n1             False           False             True            False   \n2             False           False             True            False   \n3             False           False             True            False   \n4             False           False             True            False   \n..              ...             ...              ...              ...   \n200           False           False             True            False   \n201           False           False             True            False   \n202           False           False             True            False   \n203            True           False            False            False   \n204           False           False             True            False   \n\n     fuelsystem_spfi  \n0              False  \n1              False  \n2              False  \n3              False  \n4              False  \n..               ...  \n200            False  \n201            False  \n202            False  \n203            False  \n204            False  \n\n[205 rows x 46 columns]",
      "text/html": "<div>\n<style scoped>\n    .dataframe tbody tr th:only-of-type {\n        vertical-align: middle;\n    }\n\n    .dataframe tbody tr th {\n        vertical-align: top;\n    }\n\n    .dataframe thead th {\n        text-align: right;\n    }\n</style>\n<table border=\"1\" class=\"dataframe\">\n  <thead>\n    <tr style=\"text-align: right;\">\n      <th></th>\n      <th>CarName</th>\n      <th>doornumber</th>\n      <th>wheelbase</th>\n      <th>carlength</th>\n      <th>carwidth</th>\n      <th>carheight</th>\n      <th>curbweight</th>\n      <th>cylindernumber</th>\n      <th>enginesize</th>\n      <th>boreratio</th>\n      <th>...</th>\n      <th>enginetype_ohcv</th>\n      <th>enginetype_rotor</th>\n      <th>fuelsystem_1bbl</th>\n      <th>fuelsystem_2bbl</th>\n      <th>fuelsystem_4bbl</th>\n      <th>fuelsystem_idi</th>\n      <th>fuelsystem_mfi</th>\n      <th>fuelsystem_mpfi</th>\n      <th>fuelsystem_spdi</th>\n      <th>fuelsystem_spfi</th>\n    </tr>\n  </thead>\n  <tbody>\n    <tr>\n      <th>0</th>\n      <td>alfa-romero</td>\n      <td>2</td>\n      <td>88.6</td>\n      <td>168.8</td>\n      <td>64.1</td>\n      <td>48.8</td>\n      <td>2548</td>\n      <td>4</td>\n      <td>130</td>\n      <td>3.47</td>\n      <td>...</td>\n      <td>False</td>\n      <td>False</td>\n      <td>False</td>\n      <td>False</td>\n      <td>False</td>\n      <td>False</td>\n      <td>False</td>\n      <td>True</td>\n      <td>False</td>\n      <td>False</td>\n    </tr>\n    <tr>\n      <th>1</th>\n      <td>alfa-romero</td>\n      <td>2</td>\n      <td>88.6</td>\n      <td>168.8</td>\n      <td>64.1</td>\n      <td>48.8</td>\n      <td>2548</td>\n      <td>4</td>\n      <td>130</td>\n      <td>3.47</td>\n      <td>...</td>\n      <td>False</td>\n      <td>False</td>\n      <td>False</td>\n      <td>False</td>\n      <td>False</td>\n      <td>False</td>\n      <td>False</td>\n      <td>True</td>\n      <td>False</td>\n      <td>False</td>\n    </tr>\n    <tr>\n      <th>2</th>\n      <td>alfa-romero</td>\n      <td>2</td>\n      <td>94.5</td>\n      <td>171.2</td>\n      <td>65.5</td>\n      <td>52.4</td>\n      <td>2823</td>\n      <td>6</td>\n      <td>152</td>\n      <td>2.68</td>\n      <td>...</td>\n      <td>True</td>\n      <td>False</td>\n      <td>False</td>\n      <td>False</td>\n      <td>False</td>\n      <td>False</td>\n      <td>False</td>\n      <td>True</td>\n      <td>False</td>\n      <td>False</td>\n    </tr>\n    <tr>\n      <th>3</th>\n      <td>audi</td>\n      <td>4</td>\n      <td>99.8</td>\n      <td>176.6</td>\n      <td>66.2</td>\n      <td>54.3</td>\n      <td>2337</td>\n      <td>4</td>\n      <td>109</td>\n      <td>3.19</td>\n      <td>...</td>\n      <td>False</td>\n      <td>False</td>\n      <td>False</td>\n      <td>False</td>\n      <td>False</td>\n      <td>False</td>\n      <td>False</td>\n      <td>True</td>\n      <td>False</td>\n      <td>False</td>\n    </tr>\n    <tr>\n      <th>4</th>\n      <td>audi</td>\n      <td>4</td>\n      <td>99.4</td>\n      <td>176.6</td>\n      <td>66.4</td>\n      <td>54.3</td>\n      <td>2824</td>\n      <td>5</td>\n      <td>136</td>\n      <td>3.19</td>\n      <td>...</td>\n      <td>False</td>\n      <td>False</td>\n      <td>False</td>\n      <td>False</td>\n      <td>False</td>\n      <td>False</td>\n      <td>False</td>\n      <td>True</td>\n      <td>False</td>\n      <td>False</td>\n    </tr>\n    <tr>\n      <th>...</th>\n      <td>...</td>\n      <td>...</td>\n      <td>...</td>\n      <td>...</td>\n      <td>...</td>\n      <td>...</td>\n      <td>...</td>\n      <td>...</td>\n      <td>...</td>\n      <td>...</td>\n      <td>...</td>\n      <td>...</td>\n      <td>...</td>\n      <td>...</td>\n      <td>...</td>\n      <td>...</td>\n      <td>...</td>\n      <td>...</td>\n      <td>...</td>\n      <td>...</td>\n      <td>...</td>\n    </tr>\n    <tr>\n      <th>200</th>\n      <td>volvo</td>\n      <td>4</td>\n      <td>109.1</td>\n      <td>188.8</td>\n      <td>68.9</td>\n      <td>55.5</td>\n      <td>2952</td>\n      <td>4</td>\n      <td>141</td>\n      <td>3.78</td>\n      <td>...</td>\n      <td>False</td>\n      <td>False</td>\n      <td>False</td>\n      <td>False</td>\n      <td>False</td>\n      <td>False</td>\n      <td>False</td>\n      <td>True</td>\n      <td>False</td>\n      <td>False</td>\n    </tr>\n    <tr>\n      <th>201</th>\n      <td>volvo</td>\n      <td>4</td>\n      <td>109.1</td>\n      <td>188.8</td>\n      <td>68.8</td>\n      <td>55.5</td>\n      <td>3049</td>\n      <td>4</td>\n      <td>141</td>\n      <td>3.78</td>\n      <td>...</td>\n      <td>False</td>\n      <td>False</td>\n      <td>False</td>\n      <td>False</td>\n      <td>False</td>\n      <td>False</td>\n      <td>False</td>\n      <td>True</td>\n      <td>False</td>\n      <td>False</td>\n    </tr>\n    <tr>\n      <th>202</th>\n      <td>volvo</td>\n      <td>4</td>\n      <td>109.1</td>\n      <td>188.8</td>\n      <td>68.9</td>\n      <td>55.5</td>\n      <td>3012</td>\n      <td>6</td>\n      <td>173</td>\n      <td>3.58</td>\n      <td>...</td>\n      <td>True</td>\n      <td>False</td>\n      <td>False</td>\n      <td>False</td>\n      <td>False</td>\n      <td>False</td>\n      <td>False</td>\n      <td>True</td>\n      <td>False</td>\n      <td>False</td>\n    </tr>\n    <tr>\n      <th>203</th>\n      <td>volvo</td>\n      <td>4</td>\n      <td>109.1</td>\n      <td>188.8</td>\n      <td>68.9</td>\n      <td>55.5</td>\n      <td>3217</td>\n      <td>6</td>\n      <td>145</td>\n      <td>3.01</td>\n      <td>...</td>\n      <td>False</td>\n      <td>False</td>\n      <td>False</td>\n      <td>False</td>\n      <td>False</td>\n      <td>True</td>\n      <td>False</td>\n      <td>False</td>\n      <td>False</td>\n      <td>False</td>\n    </tr>\n    <tr>\n      <th>204</th>\n      <td>volvo</td>\n      <td>4</td>\n      <td>109.1</td>\n      <td>188.8</td>\n      <td>68.9</td>\n      <td>55.5</td>\n      <td>3062</td>\n      <td>4</td>\n      <td>141</td>\n      <td>3.78</td>\n      <td>...</td>\n      <td>False</td>\n      <td>False</td>\n      <td>False</td>\n      <td>False</td>\n      <td>False</td>\n      <td>False</td>\n      <td>False</td>\n      <td>True</td>\n      <td>False</td>\n      <td>False</td>\n    </tr>\n  </tbody>\n</table>\n<p>205 rows × 46 columns</p>\n</div>"
     },
     "execution_count": 266,
     "metadata": {},
     "output_type": "execute_result"
    }
   ],
   "source": [
    "df = pd.get_dummies(df, columns=['fueltype', 'aspiration', 'enginelocation', 'carbody', 'drivewheel', 'enginetype', 'fuelsystem'])\n",
    "df"
   ],
   "metadata": {
    "collapsed": false,
    "ExecuteTime": {
     "end_time": "2024-11-06T11:52:34.043390700Z",
     "start_time": "2024-11-06T11:52:33.866180900Z"
    }
   },
   "id": "ce03e67bd5ed93e8",
   "execution_count": 266
  },
  {
   "cell_type": "code",
   "outputs": [
    {
     "data": {
      "text/plain": "         CarName  doornumber  wheelbase  carlength  carwidth  carheight  \\\n0    alfa-romero           2       88.6      168.8      64.1       48.8   \n1    alfa-romero           2       88.6      168.8      64.1       48.8   \n2    alfa-romero           2       94.5      171.2      65.5       52.4   \n3           audi           4       99.8      176.6      66.2       54.3   \n4           audi           4       99.4      176.6      66.4       54.3   \n..           ...         ...        ...        ...       ...        ...   \n200        volvo           4      109.1      188.8      68.9       55.5   \n201        volvo           4      109.1      188.8      68.8       55.5   \n202        volvo           4      109.1      188.8      68.9       55.5   \n203        volvo           4      109.1      188.8      68.9       55.5   \n204        volvo           4      109.1      188.8      68.9       55.5   \n\n     curbweight  cylindernumber  enginesize  boreratio  ...  enginetype_ohcv  \\\n0          2548               4         130       3.47  ...            False   \n1          2548               4         130       3.47  ...            False   \n2          2823               6         152       2.68  ...             True   \n3          2337               4         109       3.19  ...            False   \n4          2824               5         136       3.19  ...            False   \n..          ...             ...         ...        ...  ...              ...   \n200        2952               4         141       3.78  ...            False   \n201        3049               4         141       3.78  ...            False   \n202        3012               6         173       3.58  ...             True   \n203        3217               6         145       3.01  ...            False   \n204        3062               4         141       3.78  ...            False   \n\n     enginetype_rotor  fuelsystem_1bbl  fuelsystem_2bbl  fuelsystem_4bbl  \\\n0               False            False            False            False   \n1               False            False            False            False   \n2               False            False            False            False   \n3               False            False            False            False   \n4               False            False            False            False   \n..                ...              ...              ...              ...   \n200             False            False            False            False   \n201             False            False            False            False   \n202             False            False            False            False   \n203             False            False            False            False   \n204             False            False            False            False   \n\n     fuelsystem_idi  fuelsystem_mfi  fuelsystem_mpfi  fuelsystem_spdi  \\\n0             False           False             True            False   \n1             False           False             True            False   \n2             False           False             True            False   \n3             False           False             True            False   \n4             False           False             True            False   \n..              ...             ...              ...              ...   \n200           False           False             True            False   \n201           False           False             True            False   \n202           False           False             True            False   \n203            True           False            False            False   \n204           False           False             True            False   \n\n     fuelsystem_spfi  \n0              False  \n1              False  \n2              False  \n3              False  \n4              False  \n..               ...  \n200            False  \n201            False  \n202            False  \n203            False  \n204            False  \n\n[205 rows x 45 columns]",
      "text/html": "<div>\n<style scoped>\n    .dataframe tbody tr th:only-of-type {\n        vertical-align: middle;\n    }\n\n    .dataframe tbody tr th {\n        vertical-align: top;\n    }\n\n    .dataframe thead th {\n        text-align: right;\n    }\n</style>\n<table border=\"1\" class=\"dataframe\">\n  <thead>\n    <tr style=\"text-align: right;\">\n      <th></th>\n      <th>CarName</th>\n      <th>doornumber</th>\n      <th>wheelbase</th>\n      <th>carlength</th>\n      <th>carwidth</th>\n      <th>carheight</th>\n      <th>curbweight</th>\n      <th>cylindernumber</th>\n      <th>enginesize</th>\n      <th>boreratio</th>\n      <th>...</th>\n      <th>enginetype_ohcv</th>\n      <th>enginetype_rotor</th>\n      <th>fuelsystem_1bbl</th>\n      <th>fuelsystem_2bbl</th>\n      <th>fuelsystem_4bbl</th>\n      <th>fuelsystem_idi</th>\n      <th>fuelsystem_mfi</th>\n      <th>fuelsystem_mpfi</th>\n      <th>fuelsystem_spdi</th>\n      <th>fuelsystem_spfi</th>\n    </tr>\n  </thead>\n  <tbody>\n    <tr>\n      <th>0</th>\n      <td>alfa-romero</td>\n      <td>2</td>\n      <td>88.6</td>\n      <td>168.8</td>\n      <td>64.1</td>\n      <td>48.8</td>\n      <td>2548</td>\n      <td>4</td>\n      <td>130</td>\n      <td>3.47</td>\n      <td>...</td>\n      <td>False</td>\n      <td>False</td>\n      <td>False</td>\n      <td>False</td>\n      <td>False</td>\n      <td>False</td>\n      <td>False</td>\n      <td>True</td>\n      <td>False</td>\n      <td>False</td>\n    </tr>\n    <tr>\n      <th>1</th>\n      <td>alfa-romero</td>\n      <td>2</td>\n      <td>88.6</td>\n      <td>168.8</td>\n      <td>64.1</td>\n      <td>48.8</td>\n      <td>2548</td>\n      <td>4</td>\n      <td>130</td>\n      <td>3.47</td>\n      <td>...</td>\n      <td>False</td>\n      <td>False</td>\n      <td>False</td>\n      <td>False</td>\n      <td>False</td>\n      <td>False</td>\n      <td>False</td>\n      <td>True</td>\n      <td>False</td>\n      <td>False</td>\n    </tr>\n    <tr>\n      <th>2</th>\n      <td>alfa-romero</td>\n      <td>2</td>\n      <td>94.5</td>\n      <td>171.2</td>\n      <td>65.5</td>\n      <td>52.4</td>\n      <td>2823</td>\n      <td>6</td>\n      <td>152</td>\n      <td>2.68</td>\n      <td>...</td>\n      <td>True</td>\n      <td>False</td>\n      <td>False</td>\n      <td>False</td>\n      <td>False</td>\n      <td>False</td>\n      <td>False</td>\n      <td>True</td>\n      <td>False</td>\n      <td>False</td>\n    </tr>\n    <tr>\n      <th>3</th>\n      <td>audi</td>\n      <td>4</td>\n      <td>99.8</td>\n      <td>176.6</td>\n      <td>66.2</td>\n      <td>54.3</td>\n      <td>2337</td>\n      <td>4</td>\n      <td>109</td>\n      <td>3.19</td>\n      <td>...</td>\n      <td>False</td>\n      <td>False</td>\n      <td>False</td>\n      <td>False</td>\n      <td>False</td>\n      <td>False</td>\n      <td>False</td>\n      <td>True</td>\n      <td>False</td>\n      <td>False</td>\n    </tr>\n    <tr>\n      <th>4</th>\n      <td>audi</td>\n      <td>4</td>\n      <td>99.4</td>\n      <td>176.6</td>\n      <td>66.4</td>\n      <td>54.3</td>\n      <td>2824</td>\n      <td>5</td>\n      <td>136</td>\n      <td>3.19</td>\n      <td>...</td>\n      <td>False</td>\n      <td>False</td>\n      <td>False</td>\n      <td>False</td>\n      <td>False</td>\n      <td>False</td>\n      <td>False</td>\n      <td>True</td>\n      <td>False</td>\n      <td>False</td>\n    </tr>\n    <tr>\n      <th>...</th>\n      <td>...</td>\n      <td>...</td>\n      <td>...</td>\n      <td>...</td>\n      <td>...</td>\n      <td>...</td>\n      <td>...</td>\n      <td>...</td>\n      <td>...</td>\n      <td>...</td>\n      <td>...</td>\n      <td>...</td>\n      <td>...</td>\n      <td>...</td>\n      <td>...</td>\n      <td>...</td>\n      <td>...</td>\n      <td>...</td>\n      <td>...</td>\n      <td>...</td>\n      <td>...</td>\n    </tr>\n    <tr>\n      <th>200</th>\n      <td>volvo</td>\n      <td>4</td>\n      <td>109.1</td>\n      <td>188.8</td>\n      <td>68.9</td>\n      <td>55.5</td>\n      <td>2952</td>\n      <td>4</td>\n      <td>141</td>\n      <td>3.78</td>\n      <td>...</td>\n      <td>False</td>\n      <td>False</td>\n      <td>False</td>\n      <td>False</td>\n      <td>False</td>\n      <td>False</td>\n      <td>False</td>\n      <td>True</td>\n      <td>False</td>\n      <td>False</td>\n    </tr>\n    <tr>\n      <th>201</th>\n      <td>volvo</td>\n      <td>4</td>\n      <td>109.1</td>\n      <td>188.8</td>\n      <td>68.8</td>\n      <td>55.5</td>\n      <td>3049</td>\n      <td>4</td>\n      <td>141</td>\n      <td>3.78</td>\n      <td>...</td>\n      <td>False</td>\n      <td>False</td>\n      <td>False</td>\n      <td>False</td>\n      <td>False</td>\n      <td>False</td>\n      <td>False</td>\n      <td>True</td>\n      <td>False</td>\n      <td>False</td>\n    </tr>\n    <tr>\n      <th>202</th>\n      <td>volvo</td>\n      <td>4</td>\n      <td>109.1</td>\n      <td>188.8</td>\n      <td>68.9</td>\n      <td>55.5</td>\n      <td>3012</td>\n      <td>6</td>\n      <td>173</td>\n      <td>3.58</td>\n      <td>...</td>\n      <td>True</td>\n      <td>False</td>\n      <td>False</td>\n      <td>False</td>\n      <td>False</td>\n      <td>False</td>\n      <td>False</td>\n      <td>True</td>\n      <td>False</td>\n      <td>False</td>\n    </tr>\n    <tr>\n      <th>203</th>\n      <td>volvo</td>\n      <td>4</td>\n      <td>109.1</td>\n      <td>188.8</td>\n      <td>68.9</td>\n      <td>55.5</td>\n      <td>3217</td>\n      <td>6</td>\n      <td>145</td>\n      <td>3.01</td>\n      <td>...</td>\n      <td>False</td>\n      <td>False</td>\n      <td>False</td>\n      <td>False</td>\n      <td>False</td>\n      <td>True</td>\n      <td>False</td>\n      <td>False</td>\n      <td>False</td>\n      <td>False</td>\n    </tr>\n    <tr>\n      <th>204</th>\n      <td>volvo</td>\n      <td>4</td>\n      <td>109.1</td>\n      <td>188.8</td>\n      <td>68.9</td>\n      <td>55.5</td>\n      <td>3062</td>\n      <td>4</td>\n      <td>141</td>\n      <td>3.78</td>\n      <td>...</td>\n      <td>False</td>\n      <td>False</td>\n      <td>False</td>\n      <td>False</td>\n      <td>False</td>\n      <td>False</td>\n      <td>False</td>\n      <td>True</td>\n      <td>False</td>\n      <td>False</td>\n    </tr>\n  </tbody>\n</table>\n<p>205 rows × 45 columns</p>\n</div>"
     },
     "metadata": {},
     "output_type": "display_data"
    },
    {
     "data": {
      "text/plain": "0      13495.0\n1      16500.0\n2      16500.0\n3      13950.0\n4      17450.0\n        ...   \n200    16845.0\n201    19045.0\n202    21485.0\n203    22470.0\n204    22625.0\nName: price, Length: 205, dtype: float64"
     },
     "metadata": {},
     "output_type": "display_data"
    }
   ],
   "source": [
    "y = df['price']\n",
    "X = df.drop(columns=['price'], axis=1)\n",
    "display(X, y)"
   ],
   "metadata": {
    "collapsed": false,
    "ExecuteTime": {
     "end_time": "2024-11-06T11:52:34.219682700Z",
     "start_time": "2024-11-06T11:52:34.048475100Z"
    }
   },
   "id": "1f84188b1f99d201",
   "execution_count": 267
  },
  {
   "cell_type": "code",
   "outputs": [
    {
     "data": {
      "text/plain": "     doornumber  wheelbase  carlength  carwidth  carheight  curbweight  \\\n0           0.0   0.058309   0.413433  0.316667   0.083333    0.411171   \n1           0.0   0.058309   0.413433  0.316667   0.083333    0.411171   \n2           0.0   0.230321   0.449254  0.433333   0.383333    0.517843   \n3           1.0   0.384840   0.529851  0.491667   0.541667    0.329325   \n4           1.0   0.373178   0.529851  0.508333   0.541667    0.518231   \n..          ...        ...        ...       ...        ...         ...   \n200         1.0   0.655977   0.711940  0.716667   0.641667    0.567882   \n201         1.0   0.655977   0.711940  0.708333   0.641667    0.605508   \n202         1.0   0.655977   0.711940  0.716667   0.641667    0.591156   \n203         1.0   0.655977   0.711940  0.716667   0.641667    0.670675   \n204         1.0   0.655977   0.711940  0.716667   0.641667    0.610551   \n\n     cylindernumber  enginesize  boreratio  \n0               0.2    0.260377   0.664286  \n1               0.2    0.260377   0.664286  \n2               0.4    0.343396   0.100000  \n3               0.2    0.181132   0.464286  \n4               0.3    0.283019   0.464286  \n..              ...         ...        ...  \n200             0.2    0.301887   0.885714  \n201             0.2    0.301887   0.885714  \n202             0.4    0.422642   0.742857  \n203             0.4    0.316981   0.335714  \n204             0.2    0.301887   0.885714  \n\n[205 rows x 9 columns]",
      "text/html": "<div>\n<style scoped>\n    .dataframe tbody tr th:only-of-type {\n        vertical-align: middle;\n    }\n\n    .dataframe tbody tr th {\n        vertical-align: top;\n    }\n\n    .dataframe thead th {\n        text-align: right;\n    }\n</style>\n<table border=\"1\" class=\"dataframe\">\n  <thead>\n    <tr style=\"text-align: right;\">\n      <th></th>\n      <th>doornumber</th>\n      <th>wheelbase</th>\n      <th>carlength</th>\n      <th>carwidth</th>\n      <th>carheight</th>\n      <th>curbweight</th>\n      <th>cylindernumber</th>\n      <th>enginesize</th>\n      <th>boreratio</th>\n    </tr>\n  </thead>\n  <tbody>\n    <tr>\n      <th>0</th>\n      <td>0.0</td>\n      <td>0.058309</td>\n      <td>0.413433</td>\n      <td>0.316667</td>\n      <td>0.083333</td>\n      <td>0.411171</td>\n      <td>0.2</td>\n      <td>0.260377</td>\n      <td>0.664286</td>\n    </tr>\n    <tr>\n      <th>1</th>\n      <td>0.0</td>\n      <td>0.058309</td>\n      <td>0.413433</td>\n      <td>0.316667</td>\n      <td>0.083333</td>\n      <td>0.411171</td>\n      <td>0.2</td>\n      <td>0.260377</td>\n      <td>0.664286</td>\n    </tr>\n    <tr>\n      <th>2</th>\n      <td>0.0</td>\n      <td>0.230321</td>\n      <td>0.449254</td>\n      <td>0.433333</td>\n      <td>0.383333</td>\n      <td>0.517843</td>\n      <td>0.4</td>\n      <td>0.343396</td>\n      <td>0.100000</td>\n    </tr>\n    <tr>\n      <th>3</th>\n      <td>1.0</td>\n      <td>0.384840</td>\n      <td>0.529851</td>\n      <td>0.491667</td>\n      <td>0.541667</td>\n      <td>0.329325</td>\n      <td>0.2</td>\n      <td>0.181132</td>\n      <td>0.464286</td>\n    </tr>\n    <tr>\n      <th>4</th>\n      <td>1.0</td>\n      <td>0.373178</td>\n      <td>0.529851</td>\n      <td>0.508333</td>\n      <td>0.541667</td>\n      <td>0.518231</td>\n      <td>0.3</td>\n      <td>0.283019</td>\n      <td>0.464286</td>\n    </tr>\n    <tr>\n      <th>...</th>\n      <td>...</td>\n      <td>...</td>\n      <td>...</td>\n      <td>...</td>\n      <td>...</td>\n      <td>...</td>\n      <td>...</td>\n      <td>...</td>\n      <td>...</td>\n    </tr>\n    <tr>\n      <th>200</th>\n      <td>1.0</td>\n      <td>0.655977</td>\n      <td>0.711940</td>\n      <td>0.716667</td>\n      <td>0.641667</td>\n      <td>0.567882</td>\n      <td>0.2</td>\n      <td>0.301887</td>\n      <td>0.885714</td>\n    </tr>\n    <tr>\n      <th>201</th>\n      <td>1.0</td>\n      <td>0.655977</td>\n      <td>0.711940</td>\n      <td>0.708333</td>\n      <td>0.641667</td>\n      <td>0.605508</td>\n      <td>0.2</td>\n      <td>0.301887</td>\n      <td>0.885714</td>\n    </tr>\n    <tr>\n      <th>202</th>\n      <td>1.0</td>\n      <td>0.655977</td>\n      <td>0.711940</td>\n      <td>0.716667</td>\n      <td>0.641667</td>\n      <td>0.591156</td>\n      <td>0.4</td>\n      <td>0.422642</td>\n      <td>0.742857</td>\n    </tr>\n    <tr>\n      <th>203</th>\n      <td>1.0</td>\n      <td>0.655977</td>\n      <td>0.711940</td>\n      <td>0.716667</td>\n      <td>0.641667</td>\n      <td>0.670675</td>\n      <td>0.4</td>\n      <td>0.316981</td>\n      <td>0.335714</td>\n    </tr>\n    <tr>\n      <th>204</th>\n      <td>1.0</td>\n      <td>0.655977</td>\n      <td>0.711940</td>\n      <td>0.716667</td>\n      <td>0.641667</td>\n      <td>0.610551</td>\n      <td>0.2</td>\n      <td>0.301887</td>\n      <td>0.885714</td>\n    </tr>\n  </tbody>\n</table>\n<p>205 rows × 9 columns</p>\n</div>"
     },
     "execution_count": 268,
     "metadata": {},
     "output_type": "execute_result"
    }
   ],
   "source": [
    "X.drop(['CarName'], axis=1, inplace=True)\n",
    "scaler = MinMaxScaler()\n",
    "numb = ['doornumber', 'wheelbase', 'carlength', 'carwidth', 'carheight', 'curbweight', 'cylindernumber', 'enginesize', 'boreratio']\n",
    "x = scaler.fit_transform(X[numb])\n",
    "x_scaled = pd.DataFrame(x, columns=numb)\n",
    "x_scaled"
   ],
   "metadata": {
    "collapsed": false,
    "ExecuteTime": {
     "end_time": "2024-11-06T11:52:34.233034400Z",
     "start_time": "2024-11-06T11:52:34.118509700Z"
    }
   },
   "id": "da443f62796d2006",
   "execution_count": 268
  },
  {
   "cell_type": "code",
   "outputs": [
    {
     "data": {
      "text/plain": "     doornumber  wheelbase  carlength  carwidth  carheight  curbweight  \\\n0           0.0   0.058309   0.413433  0.316667   0.083333    0.411171   \n1           0.0   0.058309   0.413433  0.316667   0.083333    0.411171   \n2           0.0   0.230321   0.449254  0.433333   0.383333    0.517843   \n3           1.0   0.384840   0.529851  0.491667   0.541667    0.329325   \n4           1.0   0.373178   0.529851  0.508333   0.541667    0.518231   \n..          ...        ...        ...       ...        ...         ...   \n200         1.0   0.655977   0.711940  0.716667   0.641667    0.567882   \n201         1.0   0.655977   0.711940  0.708333   0.641667    0.605508   \n202         1.0   0.655977   0.711940  0.716667   0.641667    0.591156   \n203         1.0   0.655977   0.711940  0.716667   0.641667    0.670675   \n204         1.0   0.655977   0.711940  0.716667   0.641667    0.610551   \n\n     cylindernumber  enginesize  boreratio  stroke  ...  enginetype_ohcv  \\\n0               0.2    0.260377   0.664286    2.68  ...            False   \n1               0.2    0.260377   0.664286    2.68  ...            False   \n2               0.4    0.343396   0.100000    3.47  ...             True   \n3               0.2    0.181132   0.464286    3.40  ...            False   \n4               0.3    0.283019   0.464286    3.40  ...            False   \n..              ...         ...        ...     ...  ...              ...   \n200             0.2    0.301887   0.885714    3.15  ...            False   \n201             0.2    0.301887   0.885714    3.15  ...            False   \n202             0.4    0.422642   0.742857    2.87  ...             True   \n203             0.4    0.316981   0.335714    3.40  ...            False   \n204             0.2    0.301887   0.885714    3.15  ...            False   \n\n     enginetype_rotor  fuelsystem_1bbl  fuelsystem_2bbl  fuelsystem_4bbl  \\\n0               False            False            False            False   \n1               False            False            False            False   \n2               False            False            False            False   \n3               False            False            False            False   \n4               False            False            False            False   \n..                ...              ...              ...              ...   \n200             False            False            False            False   \n201             False            False            False            False   \n202             False            False            False            False   \n203             False            False            False            False   \n204             False            False            False            False   \n\n     fuelsystem_idi  fuelsystem_mfi  fuelsystem_mpfi  fuelsystem_spdi  \\\n0             False           False             True            False   \n1             False           False             True            False   \n2             False           False             True            False   \n3             False           False             True            False   \n4             False           False             True            False   \n..              ...             ...              ...              ...   \n200           False           False             True            False   \n201           False           False             True            False   \n202           False           False             True            False   \n203            True           False            False            False   \n204           False           False             True            False   \n\n     fuelsystem_spfi  \n0              False  \n1              False  \n2              False  \n3              False  \n4              False  \n..               ...  \n200            False  \n201            False  \n202            False  \n203            False  \n204            False  \n\n[205 rows x 44 columns]",
      "text/html": "<div>\n<style scoped>\n    .dataframe tbody tr th:only-of-type {\n        vertical-align: middle;\n    }\n\n    .dataframe tbody tr th {\n        vertical-align: top;\n    }\n\n    .dataframe thead th {\n        text-align: right;\n    }\n</style>\n<table border=\"1\" class=\"dataframe\">\n  <thead>\n    <tr style=\"text-align: right;\">\n      <th></th>\n      <th>doornumber</th>\n      <th>wheelbase</th>\n      <th>carlength</th>\n      <th>carwidth</th>\n      <th>carheight</th>\n      <th>curbweight</th>\n      <th>cylindernumber</th>\n      <th>enginesize</th>\n      <th>boreratio</th>\n      <th>stroke</th>\n      <th>...</th>\n      <th>enginetype_ohcv</th>\n      <th>enginetype_rotor</th>\n      <th>fuelsystem_1bbl</th>\n      <th>fuelsystem_2bbl</th>\n      <th>fuelsystem_4bbl</th>\n      <th>fuelsystem_idi</th>\n      <th>fuelsystem_mfi</th>\n      <th>fuelsystem_mpfi</th>\n      <th>fuelsystem_spdi</th>\n      <th>fuelsystem_spfi</th>\n    </tr>\n  </thead>\n  <tbody>\n    <tr>\n      <th>0</th>\n      <td>0.0</td>\n      <td>0.058309</td>\n      <td>0.413433</td>\n      <td>0.316667</td>\n      <td>0.083333</td>\n      <td>0.411171</td>\n      <td>0.2</td>\n      <td>0.260377</td>\n      <td>0.664286</td>\n      <td>2.68</td>\n      <td>...</td>\n      <td>False</td>\n      <td>False</td>\n      <td>False</td>\n      <td>False</td>\n      <td>False</td>\n      <td>False</td>\n      <td>False</td>\n      <td>True</td>\n      <td>False</td>\n      <td>False</td>\n    </tr>\n    <tr>\n      <th>1</th>\n      <td>0.0</td>\n      <td>0.058309</td>\n      <td>0.413433</td>\n      <td>0.316667</td>\n      <td>0.083333</td>\n      <td>0.411171</td>\n      <td>0.2</td>\n      <td>0.260377</td>\n      <td>0.664286</td>\n      <td>2.68</td>\n      <td>...</td>\n      <td>False</td>\n      <td>False</td>\n      <td>False</td>\n      <td>False</td>\n      <td>False</td>\n      <td>False</td>\n      <td>False</td>\n      <td>True</td>\n      <td>False</td>\n      <td>False</td>\n    </tr>\n    <tr>\n      <th>2</th>\n      <td>0.0</td>\n      <td>0.230321</td>\n      <td>0.449254</td>\n      <td>0.433333</td>\n      <td>0.383333</td>\n      <td>0.517843</td>\n      <td>0.4</td>\n      <td>0.343396</td>\n      <td>0.100000</td>\n      <td>3.47</td>\n      <td>...</td>\n      <td>True</td>\n      <td>False</td>\n      <td>False</td>\n      <td>False</td>\n      <td>False</td>\n      <td>False</td>\n      <td>False</td>\n      <td>True</td>\n      <td>False</td>\n      <td>False</td>\n    </tr>\n    <tr>\n      <th>3</th>\n      <td>1.0</td>\n      <td>0.384840</td>\n      <td>0.529851</td>\n      <td>0.491667</td>\n      <td>0.541667</td>\n      <td>0.329325</td>\n      <td>0.2</td>\n      <td>0.181132</td>\n      <td>0.464286</td>\n      <td>3.40</td>\n      <td>...</td>\n      <td>False</td>\n      <td>False</td>\n      <td>False</td>\n      <td>False</td>\n      <td>False</td>\n      <td>False</td>\n      <td>False</td>\n      <td>True</td>\n      <td>False</td>\n      <td>False</td>\n    </tr>\n    <tr>\n      <th>4</th>\n      <td>1.0</td>\n      <td>0.373178</td>\n      <td>0.529851</td>\n      <td>0.508333</td>\n      <td>0.541667</td>\n      <td>0.518231</td>\n      <td>0.3</td>\n      <td>0.283019</td>\n      <td>0.464286</td>\n      <td>3.40</td>\n      <td>...</td>\n      <td>False</td>\n      <td>False</td>\n      <td>False</td>\n      <td>False</td>\n      <td>False</td>\n      <td>False</td>\n      <td>False</td>\n      <td>True</td>\n      <td>False</td>\n      <td>False</td>\n    </tr>\n    <tr>\n      <th>...</th>\n      <td>...</td>\n      <td>...</td>\n      <td>...</td>\n      <td>...</td>\n      <td>...</td>\n      <td>...</td>\n      <td>...</td>\n      <td>...</td>\n      <td>...</td>\n      <td>...</td>\n      <td>...</td>\n      <td>...</td>\n      <td>...</td>\n      <td>...</td>\n      <td>...</td>\n      <td>...</td>\n      <td>...</td>\n      <td>...</td>\n      <td>...</td>\n      <td>...</td>\n      <td>...</td>\n    </tr>\n    <tr>\n      <th>200</th>\n      <td>1.0</td>\n      <td>0.655977</td>\n      <td>0.711940</td>\n      <td>0.716667</td>\n      <td>0.641667</td>\n      <td>0.567882</td>\n      <td>0.2</td>\n      <td>0.301887</td>\n      <td>0.885714</td>\n      <td>3.15</td>\n      <td>...</td>\n      <td>False</td>\n      <td>False</td>\n      <td>False</td>\n      <td>False</td>\n      <td>False</td>\n      <td>False</td>\n      <td>False</td>\n      <td>True</td>\n      <td>False</td>\n      <td>False</td>\n    </tr>\n    <tr>\n      <th>201</th>\n      <td>1.0</td>\n      <td>0.655977</td>\n      <td>0.711940</td>\n      <td>0.708333</td>\n      <td>0.641667</td>\n      <td>0.605508</td>\n      <td>0.2</td>\n      <td>0.301887</td>\n      <td>0.885714</td>\n      <td>3.15</td>\n      <td>...</td>\n      <td>False</td>\n      <td>False</td>\n      <td>False</td>\n      <td>False</td>\n      <td>False</td>\n      <td>False</td>\n      <td>False</td>\n      <td>True</td>\n      <td>False</td>\n      <td>False</td>\n    </tr>\n    <tr>\n      <th>202</th>\n      <td>1.0</td>\n      <td>0.655977</td>\n      <td>0.711940</td>\n      <td>0.716667</td>\n      <td>0.641667</td>\n      <td>0.591156</td>\n      <td>0.4</td>\n      <td>0.422642</td>\n      <td>0.742857</td>\n      <td>2.87</td>\n      <td>...</td>\n      <td>True</td>\n      <td>False</td>\n      <td>False</td>\n      <td>False</td>\n      <td>False</td>\n      <td>False</td>\n      <td>False</td>\n      <td>True</td>\n      <td>False</td>\n      <td>False</td>\n    </tr>\n    <tr>\n      <th>203</th>\n      <td>1.0</td>\n      <td>0.655977</td>\n      <td>0.711940</td>\n      <td>0.716667</td>\n      <td>0.641667</td>\n      <td>0.670675</td>\n      <td>0.4</td>\n      <td>0.316981</td>\n      <td>0.335714</td>\n      <td>3.40</td>\n      <td>...</td>\n      <td>False</td>\n      <td>False</td>\n      <td>False</td>\n      <td>False</td>\n      <td>False</td>\n      <td>True</td>\n      <td>False</td>\n      <td>False</td>\n      <td>False</td>\n      <td>False</td>\n    </tr>\n    <tr>\n      <th>204</th>\n      <td>1.0</td>\n      <td>0.655977</td>\n      <td>0.711940</td>\n      <td>0.716667</td>\n      <td>0.641667</td>\n      <td>0.610551</td>\n      <td>0.2</td>\n      <td>0.301887</td>\n      <td>0.885714</td>\n      <td>3.15</td>\n      <td>...</td>\n      <td>False</td>\n      <td>False</td>\n      <td>False</td>\n      <td>False</td>\n      <td>False</td>\n      <td>False</td>\n      <td>False</td>\n      <td>True</td>\n      <td>False</td>\n      <td>False</td>\n    </tr>\n  </tbody>\n</table>\n<p>205 rows × 44 columns</p>\n</div>"
     },
     "execution_count": 269,
     "metadata": {},
     "output_type": "execute_result"
    }
   ],
   "source": [
    "X[numb] = x_scaled\n",
    "X"
   ],
   "metadata": {
    "collapsed": false,
    "ExecuteTime": {
     "end_time": "2024-11-06T11:52:34.394885600Z",
     "start_time": "2024-11-06T11:52:34.237663Z"
    }
   },
   "id": "efb16328668d7946",
   "execution_count": 269
  },
  {
   "cell_type": "code",
   "outputs": [
    {
     "data": {
      "text/plain": "array([ 8171.355     , 35033.05      ,  6472.56      , 10054.84666667,\n        9014.03666667,  7178.02      , 16147.07      ,  8511.54      ,\n       30735.665     , 14360.24      ,  7634.89      , 15135.38      ,\n       13926.34      , 13041.89      , 15713.17      , 34155.045     ,\n       14461.29      ,  9170.45666667, 11915.57333333, 10189.06      ,\n        8037.16833333, 10440.58      , 20490.52      , 15713.17      ,\n        9506.72666667, 14011.87      , 32895.73      ,  8452.805     ,\n       18361.815     ,  6821.18      , 20097.39      ,  6735.19166667,\n       14232.8       , 11943.14666667, 18225.7       , 19727.81      ,\n       38882.43      , 13882.45      ,  9521.07      ,  7956.60166667,\n        9425.18166667, 13113.62      ,  6443.43      ,  8392.51333333,\n       14399.25      , 10129.69      , 16016.565     ,  8063.665     ,\n       17630.17      ,  7489.49      , 15713.17      ,  7558.705     ,\n       33204.015     , 10336.705     ,  7097.50333333, 18311.11      ,\n        7446.04666667,  6343.97      , 16031.415     ,  6858.305     ,\n        9497.22333333,  8112.27      ])"
     },
     "execution_count": 270,
     "metadata": {},
     "output_type": "execute_result"
    }
   ],
   "source": [
    "X_train, X_test, y_train, y_test = train_test_split(X, y, random_state=17, test_size = 0.3)\n",
    "\n",
    "model = RandomForestRegressor()\n",
    "model.fit(X_train, y_train)\n",
    "\n",
    "y_pred = model.predict(X_test)\n",
    "y_pred"
   ],
   "metadata": {
    "collapsed": false,
    "ExecuteTime": {
     "end_time": "2024-11-06T11:52:34.664355900Z",
     "start_time": "2024-11-06T11:52:34.290460200Z"
    }
   },
   "id": "b71c5f09b2b0e07a",
   "execution_count": 270
  },
  {
   "cell_type": "code",
   "outputs": [
    {
     "data": {
      "text/plain": "           y  y prediction\n182   7775.0   8171.355000\n126  32528.0  35033.050000\n151   6338.0   6472.560000\n176  10898.0  10054.846667\n37    7895.0   9014.036667\n..       ...           ...\n77    6189.0   6343.970000\n102  14399.0  16031.415000\n92    6849.0   6858.305000\n81    8499.0   9497.223333\n160   7738.0   8112.270000\n\n[62 rows x 2 columns]",
      "text/html": "<div>\n<style scoped>\n    .dataframe tbody tr th:only-of-type {\n        vertical-align: middle;\n    }\n\n    .dataframe tbody tr th {\n        vertical-align: top;\n    }\n\n    .dataframe thead th {\n        text-align: right;\n    }\n</style>\n<table border=\"1\" class=\"dataframe\">\n  <thead>\n    <tr style=\"text-align: right;\">\n      <th></th>\n      <th>y</th>\n      <th>y prediction</th>\n    </tr>\n  </thead>\n  <tbody>\n    <tr>\n      <th>182</th>\n      <td>7775.0</td>\n      <td>8171.355000</td>\n    </tr>\n    <tr>\n      <th>126</th>\n      <td>32528.0</td>\n      <td>35033.050000</td>\n    </tr>\n    <tr>\n      <th>151</th>\n      <td>6338.0</td>\n      <td>6472.560000</td>\n    </tr>\n    <tr>\n      <th>176</th>\n      <td>10898.0</td>\n      <td>10054.846667</td>\n    </tr>\n    <tr>\n      <th>37</th>\n      <td>7895.0</td>\n      <td>9014.036667</td>\n    </tr>\n    <tr>\n      <th>...</th>\n      <td>...</td>\n      <td>...</td>\n    </tr>\n    <tr>\n      <th>77</th>\n      <td>6189.0</td>\n      <td>6343.970000</td>\n    </tr>\n    <tr>\n      <th>102</th>\n      <td>14399.0</td>\n      <td>16031.415000</td>\n    </tr>\n    <tr>\n      <th>92</th>\n      <td>6849.0</td>\n      <td>6858.305000</td>\n    </tr>\n    <tr>\n      <th>81</th>\n      <td>8499.0</td>\n      <td>9497.223333</td>\n    </tr>\n    <tr>\n      <th>160</th>\n      <td>7738.0</td>\n      <td>8112.270000</td>\n    </tr>\n  </tbody>\n</table>\n<p>62 rows × 2 columns</p>\n</div>"
     },
     "execution_count": 271,
     "metadata": {},
     "output_type": "execute_result"
    }
   ],
   "source": [
    "table = pd.DataFrame({\n",
    "                      'y': y_test, \n",
    "                      'y prediction': y_pred})\n",
    "table"
   ],
   "metadata": {
    "collapsed": false,
    "ExecuteTime": {
     "end_time": "2024-11-06T11:52:34.665371300Z",
     "start_time": "2024-11-06T11:52:34.561912600Z"
    }
   },
   "id": "1d2251f5e2f488e9",
   "execution_count": 271
  },
  {
   "cell_type": "code",
   "outputs": [
    {
     "data": {
      "text/plain": "1458.4985537634411"
     },
     "execution_count": 272,
     "metadata": {},
     "output_type": "execute_result"
    }
   ],
   "source": [
    "from sklearn.metrics import mean_absolute_error, mean_squared_error, r2_score\n",
    "mean_absolute_error(y_test, y_pred)"
   ],
   "metadata": {
    "collapsed": false,
    "ExecuteTime": {
     "end_time": "2024-11-06T11:52:34.665371300Z",
     "start_time": "2024-11-06T11:52:34.575452300Z"
    }
   },
   "id": "96653347e189ed17",
   "execution_count": 272
  },
  {
   "cell_type": "code",
   "outputs": [
    {
     "data": {
      "text/plain": "4097282.109291901"
     },
     "execution_count": 273,
     "metadata": {},
     "output_type": "execute_result"
    }
   ],
   "source": [
    "mean_squared_error(y_test, y_pred)"
   ],
   "metadata": {
    "collapsed": false,
    "ExecuteTime": {
     "end_time": "2024-11-06T11:52:34.781562Z",
     "start_time": "2024-11-06T11:52:34.623451200Z"
    }
   },
   "id": "1b728884db89c786",
   "execution_count": 273
  },
  {
   "cell_type": "code",
   "outputs": [
    {
     "data": {
      "text/plain": "0.9417917292555043"
     },
     "execution_count": 274,
     "metadata": {},
     "output_type": "execute_result"
    }
   ],
   "source": [
    "r2_score(y_test, y_pred)"
   ],
   "metadata": {
    "collapsed": false,
    "ExecuteTime": {
     "end_time": "2024-11-06T11:52:34.828624Z",
     "start_time": "2024-11-06T11:52:34.729805800Z"
    }
   },
   "id": "f075cdaf823818a3",
   "execution_count": 274
  },
  {
   "cell_type": "code",
   "outputs": [
    {
     "name": "stderr",
     "output_type": "stream",
     "text": [
      "C:\\Users\\ASUS\\PycharmProjects\\DataScience\\venv\\Lib\\site-packages\\sklearn\\metrics\\_regression.py:492: FutureWarning: 'squared' is deprecated in version 1.4 and will be removed in 1.6. To calculate the root mean squared error, use the function'root_mean_squared_error'.\n",
      "  warnings.warn(\n"
     ]
    },
    {
     "data": {
      "text/plain": "2024.174426597644"
     },
     "execution_count": 275,
     "metadata": {},
     "output_type": "execute_result"
    }
   ],
   "source": [
    "mean_squared_error(y_test, y_pred, squared=False)"
   ],
   "metadata": {
    "collapsed": false,
    "ExecuteTime": {
     "end_time": "2024-11-06T11:52:34.927678100Z",
     "start_time": "2024-11-06T11:52:34.834121Z"
    }
   },
   "id": "20ade35667ba48ed",
   "execution_count": 275
  },
  {
   "cell_type": "markdown",
   "source": [
    "**MAE: показывает среднее абсолютное отклонение предсказаний от истинных значений, чем меньше — тем лучше.\n",
    "MSE и RMSE: учитывают квадраты ошибок, что делает их чувствительными к выбросам. RMSE интерпретируется в тех же единицах, что и целевая переменная.\n",
    "R²: чем ближе значение к 1, тем лучше модель объясняет дисперсию данных.**"
   ],
   "metadata": {
    "collapsed": false
   },
   "id": "c10b08b081abb5c3"
  },
  {
   "cell_type": "code",
   "outputs": [
    {
     "data": {
      "text/plain": "                             0\ndoornumber            0.000898\nwheelbase             0.004733\ncarlength             0.006613\ncarwidth              0.020967\ncarheight             0.006487\ncurbweight            0.223689\ncylindernumber        0.007661\nenginesize            0.572989\nboreratio             0.004007\nstroke                0.006663\ncompressionratio      0.004088\nhorsepower            0.037875\npeakrpm               0.007097\ncitympg               0.005078\nhighwaympg            0.079223\nfueltype_diesel       0.000392\nfueltype_gas          0.000199\naspiration_std        0.000790\naspiration_turbo      0.000984\nenginelocation_front  0.000053\nenginelocation_rear   0.000104\ncarbody_convertible   0.001186\ncarbody_hardtop       0.002693\ncarbody_hatchback     0.000962\ncarbody_sedan         0.000610\ncarbody_wagon         0.000430\ndrivewheel_4wd        0.000196\ndrivewheel_fwd        0.000582\ndrivewheel_rwd        0.000477\nenginetype_dohc       0.000159\nenginetype_dohcv      0.000042\nenginetype_l          0.000039\nenginetype_ohc        0.001158\nenginetype_ohcf       0.000083\nenginetype_ohcv       0.000050\nenginetype_rotor      0.000005\nfuelsystem_1bbl       0.000027\nfuelsystem_2bbl       0.000037\nfuelsystem_4bbl       0.000025\nfuelsystem_idi        0.000034\nfuelsystem_mfi        0.000010\nfuelsystem_mpfi       0.000514\nfuelsystem_spdi       0.000088\nfuelsystem_spfi       0.000000",
      "text/html": "<div>\n<style scoped>\n    .dataframe tbody tr th:only-of-type {\n        vertical-align: middle;\n    }\n\n    .dataframe tbody tr th {\n        vertical-align: top;\n    }\n\n    .dataframe thead th {\n        text-align: right;\n    }\n</style>\n<table border=\"1\" class=\"dataframe\">\n  <thead>\n    <tr style=\"text-align: right;\">\n      <th></th>\n      <th>0</th>\n    </tr>\n  </thead>\n  <tbody>\n    <tr>\n      <th>doornumber</th>\n      <td>0.000898</td>\n    </tr>\n    <tr>\n      <th>wheelbase</th>\n      <td>0.004733</td>\n    </tr>\n    <tr>\n      <th>carlength</th>\n      <td>0.006613</td>\n    </tr>\n    <tr>\n      <th>carwidth</th>\n      <td>0.020967</td>\n    </tr>\n    <tr>\n      <th>carheight</th>\n      <td>0.006487</td>\n    </tr>\n    <tr>\n      <th>curbweight</th>\n      <td>0.223689</td>\n    </tr>\n    <tr>\n      <th>cylindernumber</th>\n      <td>0.007661</td>\n    </tr>\n    <tr>\n      <th>enginesize</th>\n      <td>0.572989</td>\n    </tr>\n    <tr>\n      <th>boreratio</th>\n      <td>0.004007</td>\n    </tr>\n    <tr>\n      <th>stroke</th>\n      <td>0.006663</td>\n    </tr>\n    <tr>\n      <th>compressionratio</th>\n      <td>0.004088</td>\n    </tr>\n    <tr>\n      <th>horsepower</th>\n      <td>0.037875</td>\n    </tr>\n    <tr>\n      <th>peakrpm</th>\n      <td>0.007097</td>\n    </tr>\n    <tr>\n      <th>citympg</th>\n      <td>0.005078</td>\n    </tr>\n    <tr>\n      <th>highwaympg</th>\n      <td>0.079223</td>\n    </tr>\n    <tr>\n      <th>fueltype_diesel</th>\n      <td>0.000392</td>\n    </tr>\n    <tr>\n      <th>fueltype_gas</th>\n      <td>0.000199</td>\n    </tr>\n    <tr>\n      <th>aspiration_std</th>\n      <td>0.000790</td>\n    </tr>\n    <tr>\n      <th>aspiration_turbo</th>\n      <td>0.000984</td>\n    </tr>\n    <tr>\n      <th>enginelocation_front</th>\n      <td>0.000053</td>\n    </tr>\n    <tr>\n      <th>enginelocation_rear</th>\n      <td>0.000104</td>\n    </tr>\n    <tr>\n      <th>carbody_convertible</th>\n      <td>0.001186</td>\n    </tr>\n    <tr>\n      <th>carbody_hardtop</th>\n      <td>0.002693</td>\n    </tr>\n    <tr>\n      <th>carbody_hatchback</th>\n      <td>0.000962</td>\n    </tr>\n    <tr>\n      <th>carbody_sedan</th>\n      <td>0.000610</td>\n    </tr>\n    <tr>\n      <th>carbody_wagon</th>\n      <td>0.000430</td>\n    </tr>\n    <tr>\n      <th>drivewheel_4wd</th>\n      <td>0.000196</td>\n    </tr>\n    <tr>\n      <th>drivewheel_fwd</th>\n      <td>0.000582</td>\n    </tr>\n    <tr>\n      <th>drivewheel_rwd</th>\n      <td>0.000477</td>\n    </tr>\n    <tr>\n      <th>enginetype_dohc</th>\n      <td>0.000159</td>\n    </tr>\n    <tr>\n      <th>enginetype_dohcv</th>\n      <td>0.000042</td>\n    </tr>\n    <tr>\n      <th>enginetype_l</th>\n      <td>0.000039</td>\n    </tr>\n    <tr>\n      <th>enginetype_ohc</th>\n      <td>0.001158</td>\n    </tr>\n    <tr>\n      <th>enginetype_ohcf</th>\n      <td>0.000083</td>\n    </tr>\n    <tr>\n      <th>enginetype_ohcv</th>\n      <td>0.000050</td>\n    </tr>\n    <tr>\n      <th>enginetype_rotor</th>\n      <td>0.000005</td>\n    </tr>\n    <tr>\n      <th>fuelsystem_1bbl</th>\n      <td>0.000027</td>\n    </tr>\n    <tr>\n      <th>fuelsystem_2bbl</th>\n      <td>0.000037</td>\n    </tr>\n    <tr>\n      <th>fuelsystem_4bbl</th>\n      <td>0.000025</td>\n    </tr>\n    <tr>\n      <th>fuelsystem_idi</th>\n      <td>0.000034</td>\n    </tr>\n    <tr>\n      <th>fuelsystem_mfi</th>\n      <td>0.000010</td>\n    </tr>\n    <tr>\n      <th>fuelsystem_mpfi</th>\n      <td>0.000514</td>\n    </tr>\n    <tr>\n      <th>fuelsystem_spdi</th>\n      <td>0.000088</td>\n    </tr>\n    <tr>\n      <th>fuelsystem_spfi</th>\n      <td>0.000000</td>\n    </tr>\n  </tbody>\n</table>\n</div>"
     },
     "execution_count": 276,
     "metadata": {},
     "output_type": "execute_result"
    }
   ],
   "source": [
    "features = pd.DataFrame(model.feature_importances_, index=X.columns)\n",
    "features"
   ],
   "metadata": {
    "collapsed": false,
    "ExecuteTime": {
     "end_time": "2024-11-06T11:52:35.003919200Z",
     "start_time": "2024-11-06T11:52:34.931710900Z"
    }
   },
   "id": "ae216446553cbc7",
   "execution_count": 276
  }
 ],
 "metadata": {
  "kernelspec": {
   "display_name": "Python 3",
   "language": "python",
   "name": "python3"
  },
  "language_info": {
   "codemirror_mode": {
    "name": "ipython",
    "version": 2
   },
   "file_extension": ".py",
   "mimetype": "text/x-python",
   "name": "python",
   "nbconvert_exporter": "python",
   "pygments_lexer": "ipython2",
   "version": "2.7.6"
  }
 },
 "nbformat": 4,
 "nbformat_minor": 5
}
